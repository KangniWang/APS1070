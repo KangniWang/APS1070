{
  "nbformat": 4,
  "nbformat_minor": 0,
  "metadata": {
    "colab": {
      "name": "Project1_Kangni_Wang.ipynb",
      "provenance": [],
      "collapsed_sections": []
    },
    "kernelspec": {
      "display_name": "Python 3",
      "language": "python",
      "name": "python3"
    },
    "language_info": {
      "codemirror_mode": {
        "name": "ipython",
        "version": 3
      },
      "file_extension": ".py",
      "mimetype": "text/x-python",
      "name": "python",
      "nbconvert_exporter": "python",
      "pygments_lexer": "ipython3",
      "version": "3.8.3"
    }
  },
  "cells": [
    {
      "cell_type": "markdown",
      "metadata": {
        "id": "08owH-AVyZCX"
      },
      "source": [
        "# APS1070\n",
        "#### Basic Principles and Models - Project 1\n",
        "**Deadline: Sep 27, 23:59 - 14 points**"
      ]
    },
    {
      "cell_type": "markdown",
      "metadata": {
        "id": "fRZ3wBoe398S"
      },
      "source": [
        "**Academic Integrity**\n",
        "\n",
        "This project is individual - it is to be completed on your own. If you have questions, please post your query in the APS1070 Piazza Q&A forums (the answer might be useful to others!).\n",
        "\n",
        "Do not share your code with others, or post your work online. Do not submit code that you have not written yourself. Students suspected of plagiarism on a project, midterm or exam will be referred to the department for formal discipline for breaches of the Student Code of Conduct."
      ]
    },
    {
      "cell_type": "markdown",
      "metadata": {
        "id": "qonbueFGyemb"
      },
      "source": [
        "Name: Kangni Wang  *(here and elsewhere, please replace the underscore with your answer)*\n",
        "\n",
        "Student ID: 1006783562"
      ]
    },
    {
      "cell_type": "markdown",
      "metadata": {
        "id": "Dykrw3cyy7PF"
      },
      "source": [
        "##**Marking Scheme:**\n",
        "\n",
        "This project is worth **14 marks** of your final grade.\n",
        "\n",
        "Draw a plot or table where necessary to summarize your findings. \n",
        "\n",
        "**Practice Vectorized coding**: If you need to write a loop in your solution, think about how you can implement the same functionality with vectorized operations. Try to avoid loops as much as possible (in some cases, loops are inevitable).\n",
        "\n"
      ]
    },
    {
      "cell_type": "markdown",
      "metadata": {
        "id": "yYlo7mIXyZFe"
      },
      "source": [
        "# Project 1 [14 Marks] \n",
        "Let's apply the tools we have learned in the tutorial to a new dataset.\n",
        "\n",
        "We're going to work with a breast cancer dataset. Download it using the cell below:"
      ]
    },
    {
      "cell_type": "markdown",
      "metadata": {
        "id": "gOGmwyQNyZFh"
      },
      "source": [
        "## Part 1: Getting started [4 Marks]\n",
        "First off, take a look at the `data`, `target` and `feature_names` entries in the `dataset` dictionary. They contain the information we'll be working with here. Then, create a Pandas DataFrame called `df` containing the data and the targets, with the feature names as column headings. If you need help, see [here](https://pandas.pydata.org/pandas-docs/stable/reference/api/pandas.DataFrame.html) for more details on how to achieve this. **[1]**\n",
        "* How many features do we have in this dataset? ___\n",
        "* What are the target classes? ___\n",
        "* What do these target classes signify?  ___\n",
        "* How many participants tested `Malignant`? ___\n",
        "* How many participants tested `Benign`? ___"
      ]
    },
    {
      "cell_type": "code",
      "metadata": {
        "id": "2YKbFva05Ebo"
      },
      "source": [
        "### YOUR CODE HERE ###"
      ],
      "execution_count": 130,
      "outputs": []
    },
    {
      "cell_type": "code",
      "metadata": {
        "id": "I0Winn9i5Ebr"
      },
      "source": [
        "import pandas as pd\n",
        "import numpy as np\n",
        "import seaborn as sns\n",
        "import matplotlib.pyplot as plt\n",
        "from sklearn.model_selection import train_test_split\n",
        "from sklearn.neighbors import KNeighborsClassifier\n",
        "from sklearn.model_selection import cross_val_score\n",
        "from sklearn.preprocessing import StandardScaler\n",
        "from sklearn.metrics import accuracy_score"
      ],
      "execution_count": 131,
      "outputs": []
    },
    {
      "cell_type": "code",
      "metadata": {
        "id": "YFo8KVcryZFe",
        "outputId": "4e93bbd1-f4be-432e-8604-9057fad2bf48",
        "colab": {
          "base_uri": "https://localhost:8080/",
          "height": 34
        }
      },
      "source": [
        "from sklearn.datasets import load_breast_cancer\n",
        "dataset = load_breast_cancer()\n",
        "dataset.keys()"
      ],
      "execution_count": 132,
      "outputs": [
        {
          "output_type": "execute_result",
          "data": {
            "text/plain": [
              "dict_keys(['data', 'target', 'target_names', 'DESCR', 'feature_names', 'filename'])"
            ]
          },
          "metadata": {
            "tags": []
          },
          "execution_count": 132
        }
      ]
    },
    {
      "cell_type": "code",
      "metadata": {
        "id": "howJms155Ebw"
      },
      "source": [
        "# create labels for feature, feature names, target and target names of the dataset\n",
        "feature_data = dataset.data\n",
        "target_data = dataset.target\n",
        "feature_names = dataset.feature_names\n",
        "target_names = dataset.target_names"
      ],
      "execution_count": 133,
      "outputs": []
    },
    {
      "cell_type": "code",
      "metadata": {
        "id": "6RYYpvfi5Eby",
        "outputId": "fa3583da-40e1-461d-ca5b-fcd1d226e73a",
        "colab": {
          "base_uri": "https://localhost:8080/",
          "height": 473
        }
      },
      "source": [
        "# Create DataFrame\n",
        "df = pd.DataFrame(dataset.data, columns=dataset.feature_names)\n",
        "df['target'] = target_data\n",
        "df"
      ],
      "execution_count": 134,
      "outputs": [
        {
          "output_type": "execute_result",
          "data": {
            "text/html": [
              "<div>\n",
              "<style scoped>\n",
              "    .dataframe tbody tr th:only-of-type {\n",
              "        vertical-align: middle;\n",
              "    }\n",
              "\n",
              "    .dataframe tbody tr th {\n",
              "        vertical-align: top;\n",
              "    }\n",
              "\n",
              "    .dataframe thead th {\n",
              "        text-align: right;\n",
              "    }\n",
              "</style>\n",
              "<table border=\"1\" class=\"dataframe\">\n",
              "  <thead>\n",
              "    <tr style=\"text-align: right;\">\n",
              "      <th></th>\n",
              "      <th>mean radius</th>\n",
              "      <th>mean texture</th>\n",
              "      <th>mean perimeter</th>\n",
              "      <th>mean area</th>\n",
              "      <th>mean smoothness</th>\n",
              "      <th>mean compactness</th>\n",
              "      <th>mean concavity</th>\n",
              "      <th>mean concave points</th>\n",
              "      <th>mean symmetry</th>\n",
              "      <th>mean fractal dimension</th>\n",
              "      <th>radius error</th>\n",
              "      <th>texture error</th>\n",
              "      <th>perimeter error</th>\n",
              "      <th>area error</th>\n",
              "      <th>smoothness error</th>\n",
              "      <th>compactness error</th>\n",
              "      <th>concavity error</th>\n",
              "      <th>concave points error</th>\n",
              "      <th>symmetry error</th>\n",
              "      <th>fractal dimension error</th>\n",
              "      <th>worst radius</th>\n",
              "      <th>worst texture</th>\n",
              "      <th>worst perimeter</th>\n",
              "      <th>worst area</th>\n",
              "      <th>worst smoothness</th>\n",
              "      <th>worst compactness</th>\n",
              "      <th>worst concavity</th>\n",
              "      <th>worst concave points</th>\n",
              "      <th>worst symmetry</th>\n",
              "      <th>worst fractal dimension</th>\n",
              "      <th>target</th>\n",
              "    </tr>\n",
              "  </thead>\n",
              "  <tbody>\n",
              "    <tr>\n",
              "      <th>0</th>\n",
              "      <td>17.99</td>\n",
              "      <td>10.38</td>\n",
              "      <td>122.80</td>\n",
              "      <td>1001.0</td>\n",
              "      <td>0.11840</td>\n",
              "      <td>0.27760</td>\n",
              "      <td>0.30010</td>\n",
              "      <td>0.14710</td>\n",
              "      <td>0.2419</td>\n",
              "      <td>0.07871</td>\n",
              "      <td>1.0950</td>\n",
              "      <td>0.9053</td>\n",
              "      <td>8.589</td>\n",
              "      <td>153.40</td>\n",
              "      <td>0.006399</td>\n",
              "      <td>0.04904</td>\n",
              "      <td>0.05373</td>\n",
              "      <td>0.01587</td>\n",
              "      <td>0.03003</td>\n",
              "      <td>0.006193</td>\n",
              "      <td>25.380</td>\n",
              "      <td>17.33</td>\n",
              "      <td>184.60</td>\n",
              "      <td>2019.0</td>\n",
              "      <td>0.16220</td>\n",
              "      <td>0.66560</td>\n",
              "      <td>0.7119</td>\n",
              "      <td>0.2654</td>\n",
              "      <td>0.4601</td>\n",
              "      <td>0.11890</td>\n",
              "      <td>0</td>\n",
              "    </tr>\n",
              "    <tr>\n",
              "      <th>1</th>\n",
              "      <td>20.57</td>\n",
              "      <td>17.77</td>\n",
              "      <td>132.90</td>\n",
              "      <td>1326.0</td>\n",
              "      <td>0.08474</td>\n",
              "      <td>0.07864</td>\n",
              "      <td>0.08690</td>\n",
              "      <td>0.07017</td>\n",
              "      <td>0.1812</td>\n",
              "      <td>0.05667</td>\n",
              "      <td>0.5435</td>\n",
              "      <td>0.7339</td>\n",
              "      <td>3.398</td>\n",
              "      <td>74.08</td>\n",
              "      <td>0.005225</td>\n",
              "      <td>0.01308</td>\n",
              "      <td>0.01860</td>\n",
              "      <td>0.01340</td>\n",
              "      <td>0.01389</td>\n",
              "      <td>0.003532</td>\n",
              "      <td>24.990</td>\n",
              "      <td>23.41</td>\n",
              "      <td>158.80</td>\n",
              "      <td>1956.0</td>\n",
              "      <td>0.12380</td>\n",
              "      <td>0.18660</td>\n",
              "      <td>0.2416</td>\n",
              "      <td>0.1860</td>\n",
              "      <td>0.2750</td>\n",
              "      <td>0.08902</td>\n",
              "      <td>0</td>\n",
              "    </tr>\n",
              "    <tr>\n",
              "      <th>2</th>\n",
              "      <td>19.69</td>\n",
              "      <td>21.25</td>\n",
              "      <td>130.00</td>\n",
              "      <td>1203.0</td>\n",
              "      <td>0.10960</td>\n",
              "      <td>0.15990</td>\n",
              "      <td>0.19740</td>\n",
              "      <td>0.12790</td>\n",
              "      <td>0.2069</td>\n",
              "      <td>0.05999</td>\n",
              "      <td>0.7456</td>\n",
              "      <td>0.7869</td>\n",
              "      <td>4.585</td>\n",
              "      <td>94.03</td>\n",
              "      <td>0.006150</td>\n",
              "      <td>0.04006</td>\n",
              "      <td>0.03832</td>\n",
              "      <td>0.02058</td>\n",
              "      <td>0.02250</td>\n",
              "      <td>0.004571</td>\n",
              "      <td>23.570</td>\n",
              "      <td>25.53</td>\n",
              "      <td>152.50</td>\n",
              "      <td>1709.0</td>\n",
              "      <td>0.14440</td>\n",
              "      <td>0.42450</td>\n",
              "      <td>0.4504</td>\n",
              "      <td>0.2430</td>\n",
              "      <td>0.3613</td>\n",
              "      <td>0.08758</td>\n",
              "      <td>0</td>\n",
              "    </tr>\n",
              "    <tr>\n",
              "      <th>3</th>\n",
              "      <td>11.42</td>\n",
              "      <td>20.38</td>\n",
              "      <td>77.58</td>\n",
              "      <td>386.1</td>\n",
              "      <td>0.14250</td>\n",
              "      <td>0.28390</td>\n",
              "      <td>0.24140</td>\n",
              "      <td>0.10520</td>\n",
              "      <td>0.2597</td>\n",
              "      <td>0.09744</td>\n",
              "      <td>0.4956</td>\n",
              "      <td>1.1560</td>\n",
              "      <td>3.445</td>\n",
              "      <td>27.23</td>\n",
              "      <td>0.009110</td>\n",
              "      <td>0.07458</td>\n",
              "      <td>0.05661</td>\n",
              "      <td>0.01867</td>\n",
              "      <td>0.05963</td>\n",
              "      <td>0.009208</td>\n",
              "      <td>14.910</td>\n",
              "      <td>26.50</td>\n",
              "      <td>98.87</td>\n",
              "      <td>567.7</td>\n",
              "      <td>0.20980</td>\n",
              "      <td>0.86630</td>\n",
              "      <td>0.6869</td>\n",
              "      <td>0.2575</td>\n",
              "      <td>0.6638</td>\n",
              "      <td>0.17300</td>\n",
              "      <td>0</td>\n",
              "    </tr>\n",
              "    <tr>\n",
              "      <th>4</th>\n",
              "      <td>20.29</td>\n",
              "      <td>14.34</td>\n",
              "      <td>135.10</td>\n",
              "      <td>1297.0</td>\n",
              "      <td>0.10030</td>\n",
              "      <td>0.13280</td>\n",
              "      <td>0.19800</td>\n",
              "      <td>0.10430</td>\n",
              "      <td>0.1809</td>\n",
              "      <td>0.05883</td>\n",
              "      <td>0.7572</td>\n",
              "      <td>0.7813</td>\n",
              "      <td>5.438</td>\n",
              "      <td>94.44</td>\n",
              "      <td>0.011490</td>\n",
              "      <td>0.02461</td>\n",
              "      <td>0.05688</td>\n",
              "      <td>0.01885</td>\n",
              "      <td>0.01756</td>\n",
              "      <td>0.005115</td>\n",
              "      <td>22.540</td>\n",
              "      <td>16.67</td>\n",
              "      <td>152.20</td>\n",
              "      <td>1575.0</td>\n",
              "      <td>0.13740</td>\n",
              "      <td>0.20500</td>\n",
              "      <td>0.4000</td>\n",
              "      <td>0.1625</td>\n",
              "      <td>0.2364</td>\n",
              "      <td>0.07678</td>\n",
              "      <td>0</td>\n",
              "    </tr>\n",
              "    <tr>\n",
              "      <th>...</th>\n",
              "      <td>...</td>\n",
              "      <td>...</td>\n",
              "      <td>...</td>\n",
              "      <td>...</td>\n",
              "      <td>...</td>\n",
              "      <td>...</td>\n",
              "      <td>...</td>\n",
              "      <td>...</td>\n",
              "      <td>...</td>\n",
              "      <td>...</td>\n",
              "      <td>...</td>\n",
              "      <td>...</td>\n",
              "      <td>...</td>\n",
              "      <td>...</td>\n",
              "      <td>...</td>\n",
              "      <td>...</td>\n",
              "      <td>...</td>\n",
              "      <td>...</td>\n",
              "      <td>...</td>\n",
              "      <td>...</td>\n",
              "      <td>...</td>\n",
              "      <td>...</td>\n",
              "      <td>...</td>\n",
              "      <td>...</td>\n",
              "      <td>...</td>\n",
              "      <td>...</td>\n",
              "      <td>...</td>\n",
              "      <td>...</td>\n",
              "      <td>...</td>\n",
              "      <td>...</td>\n",
              "      <td>...</td>\n",
              "    </tr>\n",
              "    <tr>\n",
              "      <th>564</th>\n",
              "      <td>21.56</td>\n",
              "      <td>22.39</td>\n",
              "      <td>142.00</td>\n",
              "      <td>1479.0</td>\n",
              "      <td>0.11100</td>\n",
              "      <td>0.11590</td>\n",
              "      <td>0.24390</td>\n",
              "      <td>0.13890</td>\n",
              "      <td>0.1726</td>\n",
              "      <td>0.05623</td>\n",
              "      <td>1.1760</td>\n",
              "      <td>1.2560</td>\n",
              "      <td>7.673</td>\n",
              "      <td>158.70</td>\n",
              "      <td>0.010300</td>\n",
              "      <td>0.02891</td>\n",
              "      <td>0.05198</td>\n",
              "      <td>0.02454</td>\n",
              "      <td>0.01114</td>\n",
              "      <td>0.004239</td>\n",
              "      <td>25.450</td>\n",
              "      <td>26.40</td>\n",
              "      <td>166.10</td>\n",
              "      <td>2027.0</td>\n",
              "      <td>0.14100</td>\n",
              "      <td>0.21130</td>\n",
              "      <td>0.4107</td>\n",
              "      <td>0.2216</td>\n",
              "      <td>0.2060</td>\n",
              "      <td>0.07115</td>\n",
              "      <td>0</td>\n",
              "    </tr>\n",
              "    <tr>\n",
              "      <th>565</th>\n",
              "      <td>20.13</td>\n",
              "      <td>28.25</td>\n",
              "      <td>131.20</td>\n",
              "      <td>1261.0</td>\n",
              "      <td>0.09780</td>\n",
              "      <td>0.10340</td>\n",
              "      <td>0.14400</td>\n",
              "      <td>0.09791</td>\n",
              "      <td>0.1752</td>\n",
              "      <td>0.05533</td>\n",
              "      <td>0.7655</td>\n",
              "      <td>2.4630</td>\n",
              "      <td>5.203</td>\n",
              "      <td>99.04</td>\n",
              "      <td>0.005769</td>\n",
              "      <td>0.02423</td>\n",
              "      <td>0.03950</td>\n",
              "      <td>0.01678</td>\n",
              "      <td>0.01898</td>\n",
              "      <td>0.002498</td>\n",
              "      <td>23.690</td>\n",
              "      <td>38.25</td>\n",
              "      <td>155.00</td>\n",
              "      <td>1731.0</td>\n",
              "      <td>0.11660</td>\n",
              "      <td>0.19220</td>\n",
              "      <td>0.3215</td>\n",
              "      <td>0.1628</td>\n",
              "      <td>0.2572</td>\n",
              "      <td>0.06637</td>\n",
              "      <td>0</td>\n",
              "    </tr>\n",
              "    <tr>\n",
              "      <th>566</th>\n",
              "      <td>16.60</td>\n",
              "      <td>28.08</td>\n",
              "      <td>108.30</td>\n",
              "      <td>858.1</td>\n",
              "      <td>0.08455</td>\n",
              "      <td>0.10230</td>\n",
              "      <td>0.09251</td>\n",
              "      <td>0.05302</td>\n",
              "      <td>0.1590</td>\n",
              "      <td>0.05648</td>\n",
              "      <td>0.4564</td>\n",
              "      <td>1.0750</td>\n",
              "      <td>3.425</td>\n",
              "      <td>48.55</td>\n",
              "      <td>0.005903</td>\n",
              "      <td>0.03731</td>\n",
              "      <td>0.04730</td>\n",
              "      <td>0.01557</td>\n",
              "      <td>0.01318</td>\n",
              "      <td>0.003892</td>\n",
              "      <td>18.980</td>\n",
              "      <td>34.12</td>\n",
              "      <td>126.70</td>\n",
              "      <td>1124.0</td>\n",
              "      <td>0.11390</td>\n",
              "      <td>0.30940</td>\n",
              "      <td>0.3403</td>\n",
              "      <td>0.1418</td>\n",
              "      <td>0.2218</td>\n",
              "      <td>0.07820</td>\n",
              "      <td>0</td>\n",
              "    </tr>\n",
              "    <tr>\n",
              "      <th>567</th>\n",
              "      <td>20.60</td>\n",
              "      <td>29.33</td>\n",
              "      <td>140.10</td>\n",
              "      <td>1265.0</td>\n",
              "      <td>0.11780</td>\n",
              "      <td>0.27700</td>\n",
              "      <td>0.35140</td>\n",
              "      <td>0.15200</td>\n",
              "      <td>0.2397</td>\n",
              "      <td>0.07016</td>\n",
              "      <td>0.7260</td>\n",
              "      <td>1.5950</td>\n",
              "      <td>5.772</td>\n",
              "      <td>86.22</td>\n",
              "      <td>0.006522</td>\n",
              "      <td>0.06158</td>\n",
              "      <td>0.07117</td>\n",
              "      <td>0.01664</td>\n",
              "      <td>0.02324</td>\n",
              "      <td>0.006185</td>\n",
              "      <td>25.740</td>\n",
              "      <td>39.42</td>\n",
              "      <td>184.60</td>\n",
              "      <td>1821.0</td>\n",
              "      <td>0.16500</td>\n",
              "      <td>0.86810</td>\n",
              "      <td>0.9387</td>\n",
              "      <td>0.2650</td>\n",
              "      <td>0.4087</td>\n",
              "      <td>0.12400</td>\n",
              "      <td>0</td>\n",
              "    </tr>\n",
              "    <tr>\n",
              "      <th>568</th>\n",
              "      <td>7.76</td>\n",
              "      <td>24.54</td>\n",
              "      <td>47.92</td>\n",
              "      <td>181.0</td>\n",
              "      <td>0.05263</td>\n",
              "      <td>0.04362</td>\n",
              "      <td>0.00000</td>\n",
              "      <td>0.00000</td>\n",
              "      <td>0.1587</td>\n",
              "      <td>0.05884</td>\n",
              "      <td>0.3857</td>\n",
              "      <td>1.4280</td>\n",
              "      <td>2.548</td>\n",
              "      <td>19.15</td>\n",
              "      <td>0.007189</td>\n",
              "      <td>0.00466</td>\n",
              "      <td>0.00000</td>\n",
              "      <td>0.00000</td>\n",
              "      <td>0.02676</td>\n",
              "      <td>0.002783</td>\n",
              "      <td>9.456</td>\n",
              "      <td>30.37</td>\n",
              "      <td>59.16</td>\n",
              "      <td>268.6</td>\n",
              "      <td>0.08996</td>\n",
              "      <td>0.06444</td>\n",
              "      <td>0.0000</td>\n",
              "      <td>0.0000</td>\n",
              "      <td>0.2871</td>\n",
              "      <td>0.07039</td>\n",
              "      <td>1</td>\n",
              "    </tr>\n",
              "  </tbody>\n",
              "</table>\n",
              "<p>569 rows × 31 columns</p>\n",
              "</div>"
            ],
            "text/plain": [
              "     mean radius  mean texture  ...  worst fractal dimension  target\n",
              "0          17.99         10.38  ...                  0.11890       0\n",
              "1          20.57         17.77  ...                  0.08902       0\n",
              "2          19.69         21.25  ...                  0.08758       0\n",
              "3          11.42         20.38  ...                  0.17300       0\n",
              "4          20.29         14.34  ...                  0.07678       0\n",
              "..           ...           ...  ...                      ...     ...\n",
              "564        21.56         22.39  ...                  0.07115       0\n",
              "565        20.13         28.25  ...                  0.06637       0\n",
              "566        16.60         28.08  ...                  0.07820       0\n",
              "567        20.60         29.33  ...                  0.12400       0\n",
              "568         7.76         24.54  ...                  0.07039       1\n",
              "\n",
              "[569 rows x 31 columns]"
            ]
          },
          "metadata": {
            "tags": []
          },
          "execution_count": 134
        }
      ]
    },
    {
      "cell_type": "markdown",
      "metadata": {
        "id": "VnUuTE5l5Q8B"
      },
      "source": [
        "Part1 - Question1"
      ]
    },
    {
      "cell_type": "code",
      "metadata": {
        "id": "RRlKnqDP5Eb0",
        "outputId": "229fe748-d63b-4384-d5a1-83f54d8be0ce",
        "colab": {
          "base_uri": "https://localhost:8080/",
          "height": 102
        }
      },
      "source": [
        "# How many features do we have in this dataset? \n",
        "print('number of features is', feature_data.shape[1])\n",
        "# What are the target classes?\n",
        "print('target classes are', np.unique(target_data))\n",
        "# What do these target classes signify?\n",
        "print('target classes signify', target_names)\n",
        "# How many participants tested Malignant? \n",
        "print('number of participants tested Malignant:', np.sum(target_data == 0))\n",
        "# How many participants tested Benign?\n",
        "print('number of participants tested Benign:', np.sum(target_data == 1))"
      ],
      "execution_count": 135,
      "outputs": [
        {
          "output_type": "stream",
          "text": [
            "number of features is 30\n",
            "target classes are [0 1]\n",
            "target classes signify ['malignant' 'benign']\n",
            "number of participants tested Malignant: 212\n",
            "number of participants tested Benign: 357\n"
          ],
          "name": "stdout"
        }
      ]
    },
    {
      "cell_type": "code",
      "metadata": {
        "id": "9cHNzV7L5Eb3",
        "outputId": "57e98e6c-b994-402a-9978-2ceef852e8b9",
        "colab": {
          "base_uri": "https://localhost:8080/",
          "height": 34
        }
      },
      "source": [
        "target_class = np.unique(target_data)\n",
        "target_class"
      ],
      "execution_count": 136,
      "outputs": [
        {
          "output_type": "execute_result",
          "data": {
            "text/plain": [
              "array([0, 1])"
            ]
          },
          "metadata": {
            "tags": []
          },
          "execution_count": 136
        }
      ]
    },
    {
      "cell_type": "markdown",
      "metadata": {
        "id": "U_jNtkfce9Eg"
      },
      "source": [
        "Use `seaborn.lmplot` ([help here](https://seaborn.pydata.org/generated/seaborn.lmplot.html)) to visualize a few features of the dataset. Draw a plot where the x-axis is \"mean radius\", the y-axis is \"mean texture,\" and the color of each datapoint indicates its class. Do this once again for different features for the x- and y-axis and see how the data is distributed. **[1]**\n",
        "\n",
        "Standardizing the data is often critical in machine learning. Show a plot as above, but with two features with very different scales. Standardize the data and plot those features again. What's different? Why? **[1]**\n",
        "\n",
        "It is best practice to have a training set (from which there is a rotating validation subset) and a test set. Our aim here is to (eventually) obtain the best accuracy we can on the test set (we'll do all our tuning on the training/validation sets, however). To tune `k` (our hyperparameter), we employ cross-validation ([Help](https://scikit-learn.org/stable/modules/cross_validation.html)). Cross-validation automatically selects validation subsets from the data that you provided. Split the dataset into a train and a test set **\"70:30\"**, use **``random_state=0``**. The test set is set aside (untouched) for final evaluation, once hyperparameter optimization is complete. **[1]**\n",
        "\n",
        "**"
      ]
    },
    {
      "cell_type": "code",
      "metadata": {
        "id": "A5equ6ied8eg"
      },
      "source": [
        "### YOUR CODE HERE ###"
      ],
      "execution_count": 137,
      "outputs": []
    },
    {
      "cell_type": "markdown",
      "metadata": {
        "id": "vXpV825o5dxH"
      },
      "source": [
        "Part1 - Question2"
      ]
    },
    {
      "cell_type": "code",
      "metadata": {
        "id": "gqEFSRiW5Eb9",
        "outputId": "5b204030-b0df-4b98-f8ef-f48ff74c817b",
        "colab": {
          "base_uri": "https://localhost:8080/",
          "height": 369
        }
      },
      "source": [
        "# scatter plot for 'mean radius' and 'mean texture'\n",
        "sns.lmplot(x = 'mean radius', y = 'mean texture', fit_reg = False, hue = 'target', legend = True, data = df)\n",
        "plt.legend(labels = ['Malignant', 'Benign'])\n",
        "plt.show()"
      ],
      "execution_count": 138,
      "outputs": [
        {
          "output_type": "display_data",
          "data": {
            "image/png": "[encoded data removed]",
            "text/plain": [
              "<Figure size 402.375x360 with 1 Axes>"
            ]
          },
          "metadata": {
            "tags": [],
            "needs_background": "light"
          }
        }
      ]
    },
    {
      "cell_type": "markdown",
      "metadata": {
        "id": "O2C1LBBi7sV-"
      },
      "source": [
        "By looking at x-axis, we can see that the mean radius for Benign is around 0 to 15, but for Malignant, mean radius is around 15 to 25, which is quite different for the two types. By looking at y-axis, there is not much differences between two categories, they are all distributed among 0 to 35.\n"
      ]
    },
    {
      "cell_type": "code",
      "metadata": {
        "id": "i1_OLn_r5Eb_",
        "outputId": "b55f7cce-5822-4b71-80a0-f89382fc276b",
        "colab": {
          "base_uri": "https://localhost:8080/",
          "height": 369
        }
      },
      "source": [
        "# scatter plot for 'mean perimeter' and 'mean area'\n",
        "sns.lmplot(x = 'mean perimeter', y = 'mean area', fit_reg = False, hue = 'target', legend = True, data = df)\n",
        "plt.legend(labels = ['Malignant', 'Benign'])\n",
        "plt.show()"
      ],
      "execution_count": 139,
      "outputs": [
        {
          "output_type": "display_data",
          "data": {
            "image/png": "[encoded data removed]",
            "text/plain": [
              "<Figure size 402.375x360 with 1 Axes>"
            ]
          },
          "metadata": {
            "tags": [],
            "needs_background": "light"
          }
        }
      ]
    },
    {
      "cell_type": "markdown",
      "metadata": {
        "id": "nCgtuwMCCuTl"
      },
      "source": [
        "It looks like there is a linear relationship between two features"
      ]
    },
    {
      "cell_type": "markdown",
      "metadata": {
        "id": "PU_fWm_5CR0f"
      },
      "source": [
        "Part1 - Question 3: Compare the distribution of 'mean area' and 'mean smoothness' with and without standardization"
      ]
    },
    {
      "cell_type": "code",
      "metadata": {
        "id": "truIIMd05EcB",
        "outputId": "b59ea289-2ab4-402b-f013-7bdaf7119f6a",
        "colab": {
          "base_uri": "https://localhost:8080/",
          "height": 369
        }
      },
      "source": [
        "# without standardization\n",
        "sns.lmplot(x = 'mean area', y = 'mean smoothness', fit_reg = False, hue = 'target', legend = True, data = df)\n",
        "plt.legend(labels = ['Malignant', 'Benign'])\n",
        "plt.show()"
      ],
      "execution_count": 140,
      "outputs": [
        {
          "output_type": "display_data",
          "data": {
            "image/png": "[encoded data removed]",
            "text/plain": [
              "<Figure size 402.375x360 with 1 Axes>"
            ]
          },
          "metadata": {
            "tags": [],
            "needs_background": "light"
          }
        }
      ]
    },
    {
      "cell_type": "code",
      "metadata": {
        "id": "PW8qWemu5EcG"
      },
      "source": [
        "#with standardization\n",
        "mu1,si1 = df['mean area'].mean(), df['mean area'].std() \n",
        "numerator1 = df['mean area'] - mu1 \n",
        "mean_area = numerator1/si1\n",
        "df['mean_area'] = mean_area"
      ],
      "execution_count": 141,
      "outputs": []
    },
    {
      "cell_type": "code",
      "metadata": {
        "id": "KtlEWcNk5EcH"
      },
      "source": [
        "mu2,si2 = df['mean smoothness'].mean(), df['mean smoothness'].std() \n",
        "numerator2 = df['mean smoothness'] - mu2 \n",
        "mean_smoothness = numerator2/si2\n",
        "df['mean_smoothness'] = mean_smoothness"
      ],
      "execution_count": 142,
      "outputs": []
    },
    {
      "cell_type": "code",
      "metadata": {
        "id": "jPaZQxoB5EcK",
        "outputId": "03d8a3a5-c087-4621-e2b5-5cf1c666c116",
        "colab": {
          "base_uri": "https://localhost:8080/",
          "height": 369
        }
      },
      "source": [
        "sns.lmplot(x = 'mean_area', y = 'mean_smoothness', fit_reg = False, hue = 'target', legend = True, data = df)\n",
        "plt.legend(labels = ['Malignant', 'Benign'])\n",
        "plt.show()"
      ],
      "execution_count": 143,
      "outputs": [
        {
          "output_type": "display_data",
          "data": {
            "image/png": "[encoded data removed]",
            "text/plain": [
              "<Figure size 402.375x360 with 1 Axes>"
            ]
          },
          "metadata": {
            "tags": [],
            "needs_background": "light"
          }
        }
      ]
    },
    {
      "cell_type": "markdown",
      "metadata": {
        "id": "wM5t5IpoCis6"
      },
      "source": [
        " Explanation: There is no difference regarding to the underlying distribution, it only changes the units of measurement. Standardization will rescale data to a common measure(mean = 0, standard deviation = 1), without distoring differences in the ranges of values. "
      ]
    },
    {
      "cell_type": "markdown",
      "metadata": {
        "id": "1Q_2jhBYEqJs"
      },
      "source": [
        "Part1 - Question4"
      ]
    },
    {
      "cell_type": "code",
      "metadata": {
        "id": "SPjpeOdD5EcO"
      },
      "source": [
        "X = feature_data\n",
        "y = target_data\n",
        "X_train, X_test, y_train, y_test = train_test_split(X, y, test_size=0.3, random_state=0)"
      ],
      "execution_count": 144,
      "outputs": []
    },
    {
      "cell_type": "markdown",
      "metadata": {
        "id": "aBmo0-W1yZFs"
      },
      "source": [
        "## Part 2: KNN Classifier without Standardization [3 Marks]\n",
        "Normally, standardizing data is a key step in preparing data for a KNN classifier. However, for educational purposes, let's first try to build a model without standardization. Let's create a KNN classifier to predict whether a patient has a malignant or benign tumor. \n",
        "\n",
        "Follow these steps: \n",
        "\n",
        "1.   Train a KNN Classifier using cross-validation on the dataset. Sweep `k` (number of neighbours) from 1 to 100, and show a plot of the mean cross-validation accuracy vs `k`. **[1]**\n",
        "2.   What is the best `k`? Comment on  which `k`s lead to underfitted or overfitted models. **[1]**\n",
        "3.   Can you get the same accuracy (roughly) with fewer features using a KNN model? You're free to use trial-and-error to remove features (try at least 5 combinations), or use a more sophisticated approach like [Backward Elimination](https://towardsdatascience.com/backward-elimination-for-feature-selection-in-machine-learning-c6a3a8f8cef4). \n",
        "Describe your findings using a graph or table (or multiple!). **[1]**\n",
        "\n"
      ]
    },
    {
      "cell_type": "code",
      "metadata": {
        "id": "N6e9gC-c5EcQ"
      },
      "source": [
        "### YOUR CODE HERE ###"
      ],
      "execution_count": 145,
      "outputs": []
    },
    {
      "cell_type": "markdown",
      "metadata": {
        "id": "ZFUXP0i5T0SF"
      },
      "source": [
        "Part2-Question1"
      ]
    },
    {
      "cell_type": "code",
      "metadata": {
        "id": "c3cl-7tZ5EcR",
        "scrolled": true,
        "outputId": "80298251-834d-46c6-951a-9b1051f192b5",
        "colab": {
          "base_uri": "https://localhost:8080/",
          "height": 1000
        }
      },
      "source": [
        "# train KNN Classifier, loop over different values of k\n",
        "scores=[]\n",
        "for k in np.arange(1,101):\n",
        "    knn = KNeighborsClassifier(n_neighbors=k)\n",
        "    score = cross_val_score(knn, X_train, y_train, cv=5)\n",
        "    scores.append(score.mean())\n",
        "scores"
      ],
      "execution_count": 146,
      "outputs": [
        {
          "output_type": "execute_result",
          "data": {
            "text/plain": [
              "[0.9171202531645569,\n",
              " 0.9170886075949367,\n",
              " 0.9272151898734178,\n",
              " 0.927120253164557,\n",
              " 0.919620253164557,\n",
              " 0.9246518987341773,\n",
              " 0.9321518987341773,\n",
              " 0.9321518987341773,\n",
              " 0.9246202531645569,\n",
              " 0.9346518987341772,\n",
              " 0.9346518987341772,\n",
              " 0.9321202531645569,\n",
              " 0.9221518987341772,\n",
              " 0.9296835443037976,\n",
              " 0.9221518987341772,\n",
              " 0.9246202531645569,\n",
              " 0.9120569620253164,\n",
              " 0.9195886075949368,\n",
              " 0.9120886075949368,\n",
              " 0.9145886075949367,\n",
              " 0.9070253164556963,\n",
              " 0.9095253164556961,\n",
              " 0.9070569620253165,\n",
              " 0.9070253164556961,\n",
              " 0.9045253164556962,\n",
              " 0.9095569620253163,\n",
              " 0.9095569620253163,\n",
              " 0.9095569620253163,\n",
              " 0.9095569620253163,\n",
              " 0.9095569620253163,\n",
              " 0.9045569620253164,\n",
              " 0.9070569620253165,\n",
              " 0.9070569620253165,\n",
              " 0.9095569620253166,\n",
              " 0.9095569620253166,\n",
              " 0.9070569620253164,\n",
              " 0.9070569620253165,\n",
              " 0.9095569620253166,\n",
              " 0.9095569620253166,\n",
              " 0.9095569620253166,\n",
              " 0.9070569620253165,\n",
              " 0.9095569620253166,\n",
              " 0.9095569620253166,\n",
              " 0.9095569620253166,\n",
              " 0.9020569620253165,\n",
              " 0.9070569620253165,\n",
              " 0.9020253164556962,\n",
              " 0.9095569620253166,\n",
              " 0.9045569620253164,\n",
              " 0.9070569620253164,\n",
              " 0.9070886075949367,\n",
              " 0.9070569620253165,\n",
              " 0.9020253164556962,\n",
              " 0.9020253164556962,\n",
              " 0.9020253164556962,\n",
              " 0.9020253164556962,\n",
              " 0.9020569620253165,\n",
              " 0.9020253164556962,\n",
              " 0.9045569620253164,\n",
              " 0.9045569620253164,\n",
              " 0.9020569620253165,\n",
              " 0.9020253164556962,\n",
              " 0.9045569620253164,\n",
              " 0.9045569620253164,\n",
              " 0.9020253164556962,\n",
              " 0.9045569620253164,\n",
              " 0.9045569620253164,\n",
              " 0.9045569620253164,\n",
              " 0.9020253164556962,\n",
              " 0.9045569620253164,\n",
              " 0.9020253164556962,\n",
              " 0.9020253164556962,\n",
              " 0.8994936708860759,\n",
              " 0.8994936708860759,\n",
              " 0.8994936708860759,\n",
              " 0.8994936708860759,\n",
              " 0.9020253164556962,\n",
              " 0.9020253164556962,\n",
              " 0.8944936708860759,\n",
              " 0.896993670886076,\n",
              " 0.896993670886076,\n",
              " 0.896993670886076,\n",
              " 0.8944936708860759,\n",
              " 0.896993670886076,\n",
              " 0.8919620253164556,\n",
              " 0.896993670886076,\n",
              " 0.8919620253164556,\n",
              " 0.8944620253164557,\n",
              " 0.8919620253164556,\n",
              " 0.8944620253164557,\n",
              " 0.8919620253164556,\n",
              " 0.8944620253164557,\n",
              " 0.8944620253164557,\n",
              " 0.8944620253164557,\n",
              " 0.8894620253164556,\n",
              " 0.8944620253164557,\n",
              " 0.8869303797468355,\n",
              " 0.8869303797468355,\n",
              " 0.8869303797468355,\n",
              " 0.8894303797468355]"
            ]
          },
          "metadata": {
            "tags": []
          },
          "execution_count": 146
        }
      ]
    },
    {
      "cell_type": "code",
      "metadata": {
        "id": "x3veqNGs5EcU",
        "scrolled": false,
        "outputId": "e3814b4e-2094-46d2-e228-88d9ca3c191c",
        "colab": {
          "base_uri": "https://localhost:8080/",
          "height": 295
        }
      },
      "source": [
        "# generate plot\n",
        "plt.title('k-NN :Varying Number of Neighbors')\n",
        "plt.plot(np.arange(1,101), scores, label = 'Mean Cross-Validation Accuracy')\n",
        "plt.legend()\n",
        "plt.xlabel('Number of Neighbors')\n",
        "plt.ylabel('Mean Cross-Validation Accuracy')\n",
        "plt.show()"
      ],
      "execution_count": 147,
      "outputs": [
        {
          "output_type": "display_data",
          "data": {
            "image/png": "[encoded data removed]",
            "text/plain": [
              "<Figure size 432x288 with 1 Axes>"
            ]
          },
          "metadata": {
            "tags": [],
            "needs_background": "light"
          }
        }
      ]
    },
    {
      "cell_type": "markdown",
      "metadata": {
        "id": "DeKMcE01Tujz"
      },
      "source": [
        "Part2-Question2"
      ]
    },
    {
      "cell_type": "markdown",
      "metadata": {
        "id": "cD3HeeX_S4dW"
      },
      "source": [
        "For lower values of k (around (1, 10)), the model is overfitting since it is too 'complex' and fits irrelevant characteristics(noise) in the data, it does not gerneralize the whole data patterns; for higher values k, the model is underfitting since it is too 'simple' to represent all the relevant class characteristics."
      ]
    },
    {
      "cell_type": "code",
      "metadata": {
        "id": "oxy3Xg6T5EcZ",
        "outputId": "96570e7c-b00f-4a87-da5b-c7cf8a676688",
        "colab": {
          "base_uri": "https://localhost:8080/",
          "height": 51
        }
      },
      "source": [
        "print('Best k is:', np.argmax(scores)+1)\n",
        "print('The maximum accuracy is:', np.max(scores)*100, '%')"
      ],
      "execution_count": 148,
      "outputs": [
        {
          "output_type": "stream",
          "text": [
            "Best k is: 10\n",
            "The maximum accuracy is: 93.46518987341771 %\n"
          ],
          "name": "stdout"
        }
      ]
    },
    {
      "cell_type": "markdown",
      "metadata": {
        "id": "GqqmFWYRTnoI"
      },
      "source": [
        "Part2-Question3: feature selection"
      ]
    },
    {
      "cell_type": "code",
      "metadata": {
        "id": "T3FlJeCE5Ecb"
      },
      "source": [
        "#P# feature selection"
      ],
      "execution_count": 149,
      "outputs": []
    },
    {
      "cell_type": "code",
      "metadata": {
        "id": "cIysq8765Ecd",
        "outputId": "f82f4043-a6be-4442-94a3-be0e34927f45",
        "colab": {
          "base_uri": "https://localhost:8080/",
          "height": 34
        }
      },
      "source": [
        "df_Xtrain = pd.DataFrame(data = X_train, columns = feature_names)\n",
        "df_ytrain = pd.DataFrame(data = y_train.reshape(-1,1), columns = ['target'])\n",
        "cols = np.array(df_Xtrain.columns)\n",
        "knn = KNeighborsClassifier(n_neighbors = 10)\n",
        "max_acc = 0\n",
        "while True:\n",
        "    accs = []\n",
        "    for i in cols: \n",
        "        name = cols[cols!=i]\n",
        "        df_X = df_Xtrain.loc[:,name]\n",
        "        acc = cross_val_score(knn, df_X.values, df_ytrain.values.ravel(), cv = 5)\n",
        "        accs.append(acc.mean())        \n",
        "    if max_acc <= max(accs):\n",
        "        idx = np.argmax(accs)\n",
        "        max_acc = max(accs)\n",
        "        #print(max_acc)\n",
        "        cols = np.delete(cols,idx)\n",
        "    else:\n",
        "        break\n",
        "print(cols) # we keep only four features: mean perimeter, mean area, area error, worst area"
      ],
      "execution_count": 150,
      "outputs": [
        {
          "output_type": "stream",
          "text": [
            "['mean perimeter' 'mean area' 'area error' 'worst area']\n"
          ],
          "name": "stdout"
        }
      ]
    },
    {
      "cell_type": "code",
      "metadata": {
        "id": "NevclTHC5Ecf",
        "outputId": "e9efa2fc-c61b-41b1-ada4-ff0abf84f7ab",
        "colab": {
          "base_uri": "https://localhost:8080/",
          "height": 1000
        }
      },
      "source": [
        "df_Xtrain_fs = df_Xtrain.loc[:, cols].values\n",
        "df_ytrain_fs = df_ytrain.values.ravel()\n",
        "\n",
        "scores = []\n",
        "for k in np.arange(1,101):\n",
        "    knn = KNeighborsClassifier(n_neighbors=k)\n",
        "    score = cross_val_score(knn, df_Xtrain_fs, df_ytrain_fs, cv=5)\n",
        "    scores.append(score.mean())\n",
        "scores\n",
        "# The maximum accuracy we can get after feature selection, it is the same as before"
      ],
      "execution_count": 151,
      "outputs": [
        {
          "output_type": "execute_result",
          "data": {
            "text/plain": [
              "[0.9146518987341772,\n",
              " 0.9170253164556963,\n",
              " 0.9196518987341772,\n",
              " 0.9195886075949368,\n",
              " 0.9170886075949367,\n",
              " 0.9246518987341773,\n",
              " 0.9321518987341773,\n",
              " 0.929620253164557,\n",
              " 0.9246202531645569,\n",
              " 0.9346518987341772,\n",
              " 0.9296518987341772,\n",
              " 0.9321202531645569,\n",
              " 0.9221518987341772,\n",
              " 0.9296518987341772,\n",
              " 0.9221518987341772,\n",
              " 0.922120253164557,\n",
              " 0.9120569620253164,\n",
              " 0.9195886075949368,\n",
              " 0.9120886075949368,\n",
              " 0.9145886075949367,\n",
              " 0.9070253164556963,\n",
              " 0.9095569620253166,\n",
              " 0.9070569620253165,\n",
              " 0.9045253164556962,\n",
              " 0.9045253164556962,\n",
              " 0.9095569620253163,\n",
              " 0.9070569620253165,\n",
              " 0.9095569620253163,\n",
              " 0.9095569620253163,\n",
              " 0.9095569620253163,\n",
              " 0.9045569620253164,\n",
              " 0.9070569620253165,\n",
              " 0.9070569620253165,\n",
              " 0.9095569620253166,\n",
              " 0.9095569620253166,\n",
              " 0.9070569620253164,\n",
              " 0.9070569620253165,\n",
              " 0.9070569620253165,\n",
              " 0.9070569620253165,\n",
              " 0.9095569620253166,\n",
              " 0.9070569620253165,\n",
              " 0.9095569620253166,\n",
              " 0.9095569620253166,\n",
              " 0.9095569620253166,\n",
              " 0.9020569620253165,\n",
              " 0.9070569620253165,\n",
              " 0.9020253164556962,\n",
              " 0.9070569620253165,\n",
              " 0.9045569620253164,\n",
              " 0.9070569620253164,\n",
              " 0.9070886075949367,\n",
              " 0.9070569620253165,\n",
              " 0.9020253164556962,\n",
              " 0.9020253164556962,\n",
              " 0.9020253164556962,\n",
              " 0.9020253164556962,\n",
              " 0.9020569620253165,\n",
              " 0.9020253164556962,\n",
              " 0.9045569620253164,\n",
              " 0.9045569620253164,\n",
              " 0.9020569620253165,\n",
              " 0.9020253164556962,\n",
              " 0.9045569620253164,\n",
              " 0.9045569620253164,\n",
              " 0.9020253164556962,\n",
              " 0.9045569620253164,\n",
              " 0.9045569620253164,\n",
              " 0.9020569620253165,\n",
              " 0.9020253164556962,\n",
              " 0.9045569620253164,\n",
              " 0.9020253164556962,\n",
              " 0.9020253164556962,\n",
              " 0.8994936708860759,\n",
              " 0.8994936708860759,\n",
              " 0.8994936708860759,\n",
              " 0.8994936708860759,\n",
              " 0.9020253164556962,\n",
              " 0.9020253164556962,\n",
              " 0.896993670886076,\n",
              " 0.896993670886076,\n",
              " 0.896993670886076,\n",
              " 0.896993670886076,\n",
              " 0.8944936708860759,\n",
              " 0.896993670886076,\n",
              " 0.8919620253164556,\n",
              " 0.896993670886076,\n",
              " 0.8919620253164556,\n",
              " 0.8919620253164556,\n",
              " 0.8919620253164556,\n",
              " 0.8944620253164557,\n",
              " 0.8919620253164556,\n",
              " 0.8919620253164556,\n",
              " 0.8944620253164557,\n",
              " 0.8944620253164557,\n",
              " 0.8894620253164556,\n",
              " 0.8944620253164557,\n",
              " 0.8869303797468355,\n",
              " 0.8869303797468355,\n",
              " 0.8869303797468355,\n",
              " 0.8894303797468355]"
            ]
          },
          "metadata": {
            "tags": []
          },
          "execution_count": 151
        }
      ]
    },
    {
      "cell_type": "code",
      "metadata": {
        "id": "APt8TyVs5Eck",
        "outputId": "b2803ef1-5c43-4170-bf3a-79e468cae581",
        "colab": {
          "base_uri": "https://localhost:8080/",
          "height": 295
        }
      },
      "source": [
        "# generate plot\n",
        "plt.title('k-NN_FS :Varying Number of Neighbors')\n",
        "plt.plot(np.arange(1,101), scores, label = 'Mean Cross-Validation Accuracy')\n",
        "plt.legend()\n",
        "plt.xlabel('Number of Neighbors')\n",
        "plt.ylabel('Mean Cross-Validation Accuracy')\n",
        "plt.show()"
      ],
      "execution_count": 152,
      "outputs": [
        {
          "output_type": "display_data",
          "data": {
            "image/png": "[encoded data removed]",
            "text/plain": [
              "<Figure size 432x288 with 1 Axes>"
            ]
          },
          "metadata": {
            "tags": [],
            "needs_background": "light"
          }
        }
      ]
    },
    {
      "cell_type": "code",
      "metadata": {
        "id": "PmHqX3tRUNYS",
        "outputId": "104c7e4e-00a3-4859-a749-4141939153c7",
        "colab": {
          "base_uri": "https://localhost:8080/",
          "height": 51
        }
      },
      "source": [
        "print('Best k after feature selection is:', np.argmax(scores)+1)\n",
        "print('The maximum accuracy after feature selection is:', np.max(scores)*100, '%')"
      ],
      "execution_count": 153,
      "outputs": [
        {
          "output_type": "stream",
          "text": [
            "Best k after feature selection is: 10\n",
            "The maximum accuracy after feature selection is: 93.46518987341771 %\n"
          ],
          "name": "stdout"
        }
      ]
    },
    {
      "cell_type": "markdown",
      "metadata": {
        "id": "gavxUIMAWFPE"
      },
      "source": [
        "The graph after feature selection has the same trend with before (without feature selection). We only keep 4 features in the end, which are 'mean perimeter' 'mean area' 'area error' 'worst area'. If we want to drop one more feature from the four features, accuracy will drop, which means the model will start to underfit. Therefore, we must keep four features to get the same performance as before."
      ]
    },
    {
      "cell_type": "markdown",
      "metadata": {
        "id": "GTXjb1sWmDZL"
      },
      "source": [
        "## Part 3: Standardization [2 Marks]\n",
        "\n",
        "Standardizing the data usually means scaling our data to have a mean of zero and a standard deviation of one. \n",
        "\n",
        "Note: When we standardize a dataset, do we care if the data points are in our training set or test set? Yes! The training set is available for us to train a model - we can use it however we want. The test set, however, represents a subset of data that is not available for us during training. For example, the test set can represent the data that someone who bought our model would use to see how the model performs (which they are not willing to share with us).\n",
        "Therefore, we cannot compute the mean or standard deviation of the whole dataset to standardize it - we can only calculate the mean and standard deviation of the training set. However, when we sell a model to someone, we can say what our scalers (mean and standard deviation of our training set) was. They can scale their data (test set) with our training set's mean and standard deviation. Of course, there is no guarantee that the test set would have a mean of zero and a standard deviation of one, but it should work fine.\n",
        "\n",
        "**To summarize: We fit the StandardScaler only on the training set. We transform both training and test sets with that scaler.**\n",
        "\n",
        "1. Create a KNN classifier with standardized data ([Help](https://scikit-learn.org/stable/modules/preprocessing.html)), and reproduce all steps in Part 2. **[1]**\n",
        "\n",
        "2. Does standardization lead to better model performance? Is performance better or worst? Discuss. **[1]**\n"
      ]
    },
    {
      "cell_type": "code",
      "metadata": {
        "id": "HHcuoWqJ5Eco"
      },
      "source": [
        "### YOUR CODE HERE ###"
      ],
      "execution_count": 154,
      "outputs": []
    },
    {
      "cell_type": "markdown",
      "metadata": {
        "id": "ivtpc3ldpyhS"
      },
      "source": [
        "Part3-Question1:"
      ]
    },
    {
      "cell_type": "code",
      "metadata": {
        "id": "D2u8MkhP5Ecq",
        "scrolled": true,
        "outputId": "546addbf-e723-4b2b-ac8b-3e8fbc7e8825",
        "colab": {
          "base_uri": "https://localhost:8080/",
          "height": 1000
        }
      },
      "source": [
        "# with standardization\n",
        "scaler = StandardScaler().fit(X_train)\n",
        "X_train_scaled = scaler.transform(X_train)\n",
        "X_test_scaled = scaler.transform(X_test)\n",
        "scores=[]\n",
        "for k in np.arange(1,101):\n",
        "    knn = KNeighborsClassifier(n_neighbors=k)\n",
        "    score = cross_val_score(knn, X_train_scaled, y_train, cv=5)\n",
        "    scores.append(score.mean())\n",
        "scores"
      ],
      "execution_count": 155,
      "outputs": [
        {
          "output_type": "execute_result",
          "data": {
            "text/plain": [
              "[0.9522468354430378,\n",
              " 0.944746835443038,\n",
              " 0.9623734177215189,\n",
              " 0.9623734177215189,\n",
              " 0.9522784810126582,\n",
              " 0.9548101265822785,\n",
              " 0.9649367088607596,\n",
              " 0.9649367088607596,\n",
              " 0.9598417721518986,\n",
              " 0.9674367088607594,\n",
              " 0.9649050632911391,\n",
              " 0.9624050632911393,\n",
              " 0.9599050632911392,\n",
              " 0.9624050632911393,\n",
              " 0.9548417721518987,\n",
              " 0.9523417721518987,\n",
              " 0.9498417721518987,\n",
              " 0.9523417721518987,\n",
              " 0.9473101265822784,\n",
              " 0.9498101265822785,\n",
              " 0.9498101265822785,\n",
              " 0.9523417721518987,\n",
              " 0.9498417721518987,\n",
              " 0.9498417721518987,\n",
              " 0.9523417721518987,\n",
              " 0.952373417721519,\n",
              " 0.9422784810126581,\n",
              " 0.954873417721519,\n",
              " 0.9473101265822784,\n",
              " 0.952373417721519,\n",
              " 0.9422468354430379,\n",
              " 0.9473101265822784,\n",
              " 0.9472784810126582,\n",
              " 0.9473101265822784,\n",
              " 0.9447784810126582,\n",
              " 0.9498417721518987,\n",
              " 0.9472784810126582,\n",
              " 0.9447784810126582,\n",
              " 0.944746835443038,\n",
              " 0.9472784810126582,\n",
              " 0.9422151898734178,\n",
              " 0.9422151898734178,\n",
              " 0.9397151898734176,\n",
              " 0.9397151898734176,\n",
              " 0.9397151898734176,\n",
              " 0.9397151898734176,\n",
              " 0.9397151898734176,\n",
              " 0.9397151898734176,\n",
              " 0.9372151898734178,\n",
              " 0.9397151898734176,\n",
              " 0.9397151898734176,\n",
              " 0.9397151898734176,\n",
              " 0.9321835443037972,\n",
              " 0.9321835443037972,\n",
              " 0.9321835443037972,\n",
              " 0.9321835443037972,\n",
              " 0.9321835443037972,\n",
              " 0.9296835443037974,\n",
              " 0.9271518987341771,\n",
              " 0.9271518987341771,\n",
              " 0.9271518987341771,\n",
              " 0.9246518987341773,\n",
              " 0.9271518987341771,\n",
              " 0.9271518987341774,\n",
              " 0.9246518987341773,\n",
              " 0.9271835443037976,\n",
              " 0.9196835443037976,\n",
              " 0.9221835443037975,\n",
              " 0.9171202531645569,\n",
              " 0.919620253164557,\n",
              " 0.9171202531645569,\n",
              " 0.919620253164557,\n",
              " 0.9145886075949369,\n",
              " 0.9145886075949369,\n",
              " 0.9145886075949369,\n",
              " 0.9196518987341772,\n",
              " 0.9171202531645569,\n",
              " 0.9171202531645569,\n",
              " 0.9120569620253164,\n",
              " 0.9120569620253164,\n",
              " 0.9095569620253166,\n",
              " 0.9120569620253164,\n",
              " 0.9095569620253166,\n",
              " 0.9095569620253166,\n",
              " 0.9095569620253166,\n",
              " 0.9120886075949368,\n",
              " 0.9070569620253164,\n",
              " 0.9095569620253166,\n",
              " 0.9070569620253164,\n",
              " 0.9095569620253166,\n",
              " 0.9070569620253164,\n",
              " 0.9070569620253164,\n",
              " 0.9045569620253164,\n",
              " 0.9070569620253164,\n",
              " 0.9045253164556962,\n",
              " 0.9095569620253166,\n",
              " 0.9070253164556963,\n",
              " 0.9095569620253166,\n",
              " 0.9070569620253164,\n",
              " 0.9095569620253166]"
            ]
          },
          "metadata": {
            "tags": []
          },
          "execution_count": 155
        }
      ]
    },
    {
      "cell_type": "code",
      "metadata": {
        "id": "uMw9kjG75Ecr",
        "outputId": "d245dcc2-7d9d-4705-de3b-ede08f7edfa8",
        "colab": {
          "base_uri": "https://localhost:8080/",
          "height": 51
        }
      },
      "source": [
        "print('Best k with standardized data is:', np.argmax(scores)+1)\n",
        "print('The max accuracy with standardized data is:', np.max(scores)*100, '%') "
      ],
      "execution_count": 156,
      "outputs": [
        {
          "output_type": "stream",
          "text": [
            "Best k with standardized data is: 10\n",
            "The max accuracy with standardized data is: 96.74367088607593 %\n"
          ],
          "name": "stdout"
        }
      ]
    },
    {
      "cell_type": "code",
      "metadata": {
        "id": "rpJaGCtX5Ect",
        "scrolled": true,
        "outputId": "6bca51c0-6820-4763-d5bb-535289160efb",
        "colab": {
          "base_uri": "https://localhost:8080/",
          "height": 136
        }
      },
      "source": [
        "X_comb = pd.DataFrame(X_train_scaled, columns=dataset.feature_names)\n",
        "knn = KNeighborsClassifier(n_neighbors = 10)\n",
        "cols = X_comb.columns\n",
        "max_acc = 0\n",
        "while True:\n",
        "    accs = []\n",
        "    for i in cols: \n",
        "        name = cols[cols!=i]\n",
        "        df_X = X_comb.loc[:,name]\n",
        "        acc = cross_val_score(knn, df_X.values, df_ytrain.values.ravel(), cv = 5)\n",
        "        accs.append(acc.mean())\n",
        "    if max_acc <= max(accs):\n",
        "        idx = np.argmax(accs)\n",
        "        max_acc = max(accs)\n",
        "        #print(max_acc)\n",
        "        cols = np.delete(cols,idx)\n",
        "    else:\n",
        "        break\n",
        "print(cols) # we keep 20 features down below"
      ],
      "execution_count": 157,
      "outputs": [
        {
          "output_type": "stream",
          "text": [
            "Index(['mean texture', 'mean perimeter', 'mean smoothness',\n",
            "       'mean concave points', 'radius error', 'texture error', 'area error',\n",
            "       'concavity error', 'concave points error', 'symmetry error',\n",
            "       'fractal dimension error', 'worst radius', 'worst texture',\n",
            "       'worst perimeter', 'worst area', 'worst smoothness', 'worst concavity',\n",
            "       'worst concave points', 'worst symmetry', 'worst fractal dimension'],\n",
            "      dtype='object')\n"
          ],
          "name": "stdout"
        }
      ]
    },
    {
      "cell_type": "code",
      "metadata": {
        "id": "Hkn812Ld5Ecw",
        "scrolled": true,
        "outputId": "25403c47-0387-4a67-dfe5-7dddaff5a779",
        "colab": {
          "base_uri": "https://localhost:8080/",
          "height": 1000
        }
      },
      "source": [
        "df_Xtrain_fs_scaled = X_comb.loc[:, cols].values\n",
        "df_ytrain_fs_scaled = df_ytrain.values.ravel()\n",
        "scores=[]\n",
        "for k in np.arange(1,101):\n",
        "    knn = KNeighborsClassifier(n_neighbors=k)\n",
        "    score = cross_val_score(knn, df_Xtrain_fs_scaled, df_ytrain_fs_scaled, cv=5)\n",
        "    scores.append(score.mean())\n",
        "scores"
      ],
      "execution_count": 158,
      "outputs": [
        {
          "output_type": "execute_result",
          "data": {
            "text/plain": [
              "[0.9547468354430381,\n",
              " 0.9497784810126582,\n",
              " 0.9624050632911393,\n",
              " 0.9623734177215189,\n",
              " 0.9623734177215189,\n",
              " 0.9648734177215189,\n",
              " 0.9648734177215189,\n",
              " 0.975,\n",
              " 0.9598417721518986,\n",
              " 0.975,\n",
              " 0.9649050632911391,\n",
              " 0.9674367088607594,\n",
              " 0.9674367088607594,\n",
              " 0.9674367088607594,\n",
              " 0.959873417721519,\n",
              " 0.9624050632911393,\n",
              " 0.957373417721519,\n",
              " 0.9624367088607595,\n",
              " 0.954873417721519,\n",
              " 0.954873417721519,\n",
              " 0.9523417721518987,\n",
              " 0.954873417721519,\n",
              " 0.9498101265822785,\n",
              " 0.9574050632911393,\n",
              " 0.954873417721519,\n",
              " 0.954873417721519,\n",
              " 0.9472784810126582,\n",
              " 0.9498101265822785,\n",
              " 0.9447784810126582,\n",
              " 0.9523417721518987,\n",
              " 0.9498417721518987,\n",
              " 0.9523417721518987,\n",
              " 0.9498417721518987,\n",
              " 0.952373417721519,\n",
              " 0.9472784810126582,\n",
              " 0.9523417721518987,\n",
              " 0.9472784810126582,\n",
              " 0.9472784810126582,\n",
              " 0.9472468354430379,\n",
              " 0.9497784810126582,\n",
              " 0.944746835443038,\n",
              " 0.9472468354430379,\n",
              " 0.944746835443038,\n",
              " 0.9447784810126582,\n",
              " 0.944746835443038,\n",
              " 0.944746835443038,\n",
              " 0.9422468354430379,\n",
              " 0.9472468354430379,\n",
              " 0.944746835443038,\n",
              " 0.944746835443038,\n",
              " 0.9371835443037974,\n",
              " 0.9371835443037974,\n",
              " 0.9396835443037975,\n",
              " 0.9422151898734178,\n",
              " 0.9396835443037975,\n",
              " 0.9422151898734178,\n",
              " 0.9371835443037974,\n",
              " 0.9371835443037974,\n",
              " 0.9346835443037975,\n",
              " 0.9346835443037975,\n",
              " 0.9346835443037975,\n",
              " 0.9346835443037975,\n",
              " 0.9346835443037975,\n",
              " 0.9346835443037975,\n",
              " 0.9346835443037975,\n",
              " 0.9346835443037975,\n",
              " 0.9296835443037974,\n",
              " 0.9321835443037972,\n",
              " 0.9271518987341771,\n",
              " 0.9271518987341771,\n",
              " 0.9246518987341773,\n",
              " 0.9271518987341771,\n",
              " 0.9246518987341773,\n",
              " 0.9271518987341771,\n",
              " 0.919620253164557,\n",
              " 0.9246518987341773,\n",
              " 0.922151898734177,\n",
              " 0.922151898734177,\n",
              " 0.919620253164557,\n",
              " 0.922151898734177,\n",
              " 0.919620253164557,\n",
              " 0.919620253164557,\n",
              " 0.9171202531645569,\n",
              " 0.919620253164557,\n",
              " 0.9171202531645569,\n",
              " 0.919620253164557,\n",
              " 0.9146202531645571,\n",
              " 0.9146202531645571,\n",
              " 0.9146202531645571,\n",
              " 0.9146202531645571,\n",
              " 0.9146202531645571,\n",
              " 0.9146202531645571,\n",
              " 0.9121202531645569,\n",
              " 0.9121202531645569,\n",
              " 0.9121202531645569,\n",
              " 0.9146202531645571,\n",
              " 0.9146202531645571,\n",
              " 0.9146202531645571,\n",
              " 0.9146202531645571,\n",
              " 0.9146202531645571]"
            ]
          },
          "metadata": {
            "tags": []
          },
          "execution_count": 158
        }
      ]
    },
    {
      "cell_type": "code",
      "metadata": {
        "id": "LtfvEoJ0q-3S",
        "outputId": "943be1a3-8ddf-4855-a34b-93fdba6336c7",
        "colab": {
          "base_uri": "https://localhost:8080/",
          "height": 51
        }
      },
      "source": [
        "print('Best k with standardized data after feature selection is:', np.argmax(scores)+1)\n",
        "print('The max accuracy with standardized data after feature selection is:', np.max(scores)*100, '%')"
      ],
      "execution_count": 159,
      "outputs": [
        {
          "output_type": "stream",
          "text": [
            "Best k with standardized data after feature selection is: 8\n",
            "The max accuracy with standardized data after feature selection is: 97.5 %\n"
          ],
          "name": "stdout"
        }
      ]
    },
    {
      "cell_type": "code",
      "metadata": {
        "id": "QigVA6n95Ec2",
        "scrolled": true,
        "outputId": "f018890b-5884-413f-dc6d-7700dcb27bb8",
        "colab": {
          "base_uri": "https://localhost:8080/",
          "height": 295
        }
      },
      "source": [
        "# generate plot\n",
        "plt.title('k-NN_fs_scaled :Varying Number of Neighbors')\n",
        "plt.plot(np.arange(1,101), scores, label = 'Mean Cross-Validation Accuracy')\n",
        "plt.legend()\n",
        "plt.xlabel('Number of Neighbors')\n",
        "plt.ylabel('Mean Cross-Validation Accuracy')\n",
        "plt.show()"
      ],
      "execution_count": 160,
      "outputs": [
        {
          "output_type": "display_data",
          "data": {
            "image/png": "[encoded data removed]",
            "text/plain": [
              "<Figure size 432x288 with 1 Axes>"
            ]
          },
          "metadata": {
            "tags": [],
            "needs_background": "light"
          }
        }
      ]
    },
    {
      "cell_type": "markdown",
      "metadata": {
        "id": "yYsXRhDG83no"
      },
      "source": [
        "Part3-Question2"
      ]
    },
    {
      "cell_type": "markdown",
      "metadata": {
        "id": "9t8qIOOnrWzl"
      },
      "source": [
        "Yes, standardized data leads to a better performance. The training accuracy without standardization is 96.74%, and it increase to 97.5% after standardization. This is because data has different scale in the breast cancer dataset. For example, 'mean area' range from 0 to 1000 but 'mean smoothness' range from 0 to 1. If we don't standardized our dataset, this will lead to a situation which is a feature ranges from 0 to 1000 will outweigh a feature that ranges from 0 to 1. Standardization will help data equalize the range and prevent this problem. \n",
        "  "
      ]
    },
    {
      "cell_type": "markdown",
      "metadata": {
        "id": "k7QjKjHn2TZR"
      },
      "source": [
        "## Part 4: Test Data [1 Mark]\n",
        "\n",
        "Now that you've created several models, pick your best one (highest accuracy) and apply it to the test dataset you had initially set aside. Discuss. **[1]**"
      ]
    },
    {
      "cell_type": "code",
      "metadata": {
        "id": "acdJ7EijBYqB"
      },
      "source": [
        "### YOUR CODE HERE ###"
      ],
      "execution_count": 161,
      "outputs": []
    },
    {
      "cell_type": "markdown",
      "metadata": {
        "id": "r5Ml6_5Eytvs"
      },
      "source": [
        "I choose the model which by using standardization data and also after feature selection one, since it has the highest training accuracy 97.5%."
      ]
    },
    {
      "cell_type": "code",
      "metadata": {
        "id": "UmkcG6w55Ec9"
      },
      "source": [
        "X_comb_test = pd.DataFrame(X_test_scaled, columns = feature_names)\n",
        "df_Xtest_fs_scaled = X_comb_test.loc[:, cols].values"
      ],
      "execution_count": 162,
      "outputs": []
    },
    {
      "cell_type": "code",
      "metadata": {
        "id": "cs-5btSi5Ec_",
        "outputId": "1f69cafe-3ab7-408a-d62a-0f6ffa018122",
        "colab": {
          "base_uri": "https://localhost:8080/",
          "height": 34
        }
      },
      "source": [
        "knn.fit(df_Xtrain_fs_scaled, y_train)\n",
        "accuracy = accuracy_score(y_test, knn.predict(df_Xtest_fs_scaled))\n",
        "print (\"Test set accuracy: \", accuracy * 100, \"%\")"
      ],
      "execution_count": 163,
      "outputs": [
        {
          "output_type": "stream",
          "text": [
            "Test set accuracy:  94.73684210526315 %\n"
          ],
          "name": "stdout"
        }
      ]
    },
    {
      "cell_type": "code",
      "metadata": {
        "id": "cUtaTtL50sPI"
      },
      "source": [
        "train = []\n",
        "test = []\n",
        "for k in range(1, 31):\n",
        "  knn = KNeighborsClassifier(n_neighbors = k)\n",
        "  knn.fit(df_Xtrain_fs_scaled, y_train)\n",
        "  yhat_train = knn.predict(df_Xtrain_fs_scaled)\n",
        "  yhat_test = knn.predict(df_Xtest_fs_scaled)\n",
        "  train.append(accuracy_score(y_train,yhat_train))\n",
        "  test.append(accuracy_score(y_test,yhat_test))\n",
        "  "
      ],
      "execution_count": 164,
      "outputs": []
    },
    {
      "cell_type": "code",
      "metadata": {
        "id": "btNoXQ044-0z",
        "outputId": "19bd248a-943f-4461-d86b-ca8ae57ed854",
        "colab": {
          "base_uri": "https://localhost:8080/",
          "height": 295
        }
      },
      "source": [
        "# generate plot\n",
        "plt.title('train&test :Varying Number of Neighbors')\n",
        "plt.plot(np.arange(1,31), train, label='train accuracy')\n",
        "plt.plot(np.arange(1,31), test, label='test accuracy')\n",
        "plt.axvline(x=8, color='r', linestyle='-')\n",
        "plt.legend()\n",
        "plt.xlabel('Number of Neighbors')\n",
        "plt.ylabel('Accuracy')\n",
        "plt.show()"
      ],
      "execution_count": 165,
      "outputs": [
        {
          "output_type": "display_data",
          "data": {
            "image/png": "[encoded data removed]",
            "text/plain": [
              "<Figure size 432x288 with 1 Axes>"
            ]
          },
          "metadata": {
            "tags": [],
            "needs_background": "light"
          }
        }
      ]
    },
    {
      "cell_type": "markdown",
      "metadata": {
        "id": "TzkkUMrUzMVf"
      },
      "source": [
        "I choose the model which by using standardized data and also do feature selection, since it has highest training accuracy 97.5%. From the graph above, the test accuracy is lower than training accuracy, by looking at graph above, we can see that the model is slightly overfitting when k = 8 since the optimal test accuracy is around 12. The model is becoming more 'complex' and it may fit irrelevant characteristics(noise) in the data, it does not gerneralize the whole data patterns. "
      ]
    },
    {
      "cell_type": "markdown",
      "metadata": {
        "id": "881jvX-Ky3Zk"
      },
      "source": [
        "## Part 5: New Dataset [4 Marks]\n",
        "Find an appropriate classification dataset online and train a KNN model to make predictions.\n",
        "\n",
        "*   Introduce your dataset. **[1]**\n",
        "*   Create a KNN classifier using the tools you've learned. **[2]**\n",
        "*   Present your results. **[1]**\n",
        "\n",
        "Hint: you can find various datasets here: https://www.kaggle.com/datasets and here: https://scikit-learn.org/stable/datasets/index.html#toy-datasets.\n",
        "\n",
        "To use a dataset in Colab, you can upload it in your Google drive and access it in Colab ([help here](https://medium.com/analytics-vidhya/how-to-fetch-kaggle-datasets-into-google-colab-ea682569851a)), or you can download the dataset on your local machine and upload it directly to Colab using the following script.\n",
        "\n",
        "```\n",
        "from google.colab import files\n",
        "uploaded = files.upload()\n",
        "```\n",
        "\n",
        "When submitting your project on Quercus, please make sure you are also uploading your dataset so we can fully run your notebook."
      ]
    },
    {
      "cell_type": "markdown",
      "metadata": {
        "id": "FGtNzMuW8jIV"
      },
      "source": [
        "Part5-Question1: introduce dataset"
      ]
    },
    {
      "cell_type": "markdown",
      "metadata": {
        "id": "l_sfTv0e922l"
      },
      "source": [
        "In the wine dataset, we have 178 samples, 13 features. For target data, we have three classes, which are class0, class1 and class2."
      ]
    },
    {
      "cell_type": "code",
      "metadata": {
        "id": "OsSw1V8F5EdE",
        "outputId": "b6266775-8784-4798-dddb-e5a8b43bf620",
        "colab": {
          "base_uri": "https://localhost:8080/",
          "height": 34
        }
      },
      "source": [
        "from sklearn.datasets import load_wine\n",
        "data = load_wine()\n",
        "data.keys()"
      ],
      "execution_count": 166,
      "outputs": [
        {
          "output_type": "execute_result",
          "data": {
            "text/plain": [
              "dict_keys(['data', 'target', 'target_names', 'DESCR', 'feature_names'])"
            ]
          },
          "metadata": {
            "tags": []
          },
          "execution_count": 166
        }
      ]
    },
    {
      "cell_type": "code",
      "metadata": {
        "id": "245UzlGc5EdH",
        "outputId": "f40bea2c-7cd4-433e-d992-974de8460957",
        "colab": {
          "base_uri": "https://localhost:8080/",
          "height": 439
        }
      },
      "source": [
        "X = data.data\n",
        "y = data.target\n",
        "feature_names = data.feature_names\n",
        "target_names = data.target_names\n",
        "df = pd.DataFrame(X, columns=feature_names)\n",
        "df['target'] = y\n",
        "df"
      ],
      "execution_count": 167,
      "outputs": [
        {
          "output_type": "execute_result",
          "data": {
            "text/html": [
              "<div>\n",
              "<style scoped>\n",
              "    .dataframe tbody tr th:only-of-type {\n",
              "        vertical-align: middle;\n",
              "    }\n",
              "\n",
              "    .dataframe tbody tr th {\n",
              "        vertical-align: top;\n",
              "    }\n",
              "\n",
              "    .dataframe thead th {\n",
              "        text-align: right;\n",
              "    }\n",
              "</style>\n",
              "<table border=\"1\" class=\"dataframe\">\n",
              "  <thead>\n",
              "    <tr style=\"text-align: right;\">\n",
              "      <th></th>\n",
              "      <th>alcohol</th>\n",
              "      <th>malic_acid</th>\n",
              "      <th>ash</th>\n",
              "      <th>alcalinity_of_ash</th>\n",
              "      <th>magnesium</th>\n",
              "      <th>total_phenols</th>\n",
              "      <th>flavanoids</th>\n",
              "      <th>nonflavanoid_phenols</th>\n",
              "      <th>proanthocyanins</th>\n",
              "      <th>color_intensity</th>\n",
              "      <th>hue</th>\n",
              "      <th>od280/od315_of_diluted_wines</th>\n",
              "      <th>proline</th>\n",
              "      <th>target</th>\n",
              "    </tr>\n",
              "  </thead>\n",
              "  <tbody>\n",
              "    <tr>\n",
              "      <th>0</th>\n",
              "      <td>14.23</td>\n",
              "      <td>1.71</td>\n",
              "      <td>2.43</td>\n",
              "      <td>15.6</td>\n",
              "      <td>127.0</td>\n",
              "      <td>2.80</td>\n",
              "      <td>3.06</td>\n",
              "      <td>0.28</td>\n",
              "      <td>2.29</td>\n",
              "      <td>5.64</td>\n",
              "      <td>1.04</td>\n",
              "      <td>3.92</td>\n",
              "      <td>1065.0</td>\n",
              "      <td>0</td>\n",
              "    </tr>\n",
              "    <tr>\n",
              "      <th>1</th>\n",
              "      <td>13.20</td>\n",
              "      <td>1.78</td>\n",
              "      <td>2.14</td>\n",
              "      <td>11.2</td>\n",
              "      <td>100.0</td>\n",
              "      <td>2.65</td>\n",
              "      <td>2.76</td>\n",
              "      <td>0.26</td>\n",
              "      <td>1.28</td>\n",
              "      <td>4.38</td>\n",
              "      <td>1.05</td>\n",
              "      <td>3.40</td>\n",
              "      <td>1050.0</td>\n",
              "      <td>0</td>\n",
              "    </tr>\n",
              "    <tr>\n",
              "      <th>2</th>\n",
              "      <td>13.16</td>\n",
              "      <td>2.36</td>\n",
              "      <td>2.67</td>\n",
              "      <td>18.6</td>\n",
              "      <td>101.0</td>\n",
              "      <td>2.80</td>\n",
              "      <td>3.24</td>\n",
              "      <td>0.30</td>\n",
              "      <td>2.81</td>\n",
              "      <td>5.68</td>\n",
              "      <td>1.03</td>\n",
              "      <td>3.17</td>\n",
              "      <td>1185.0</td>\n",
              "      <td>0</td>\n",
              "    </tr>\n",
              "    <tr>\n",
              "      <th>3</th>\n",
              "      <td>14.37</td>\n",
              "      <td>1.95</td>\n",
              "      <td>2.50</td>\n",
              "      <td>16.8</td>\n",
              "      <td>113.0</td>\n",
              "      <td>3.85</td>\n",
              "      <td>3.49</td>\n",
              "      <td>0.24</td>\n",
              "      <td>2.18</td>\n",
              "      <td>7.80</td>\n",
              "      <td>0.86</td>\n",
              "      <td>3.45</td>\n",
              "      <td>1480.0</td>\n",
              "      <td>0</td>\n",
              "    </tr>\n",
              "    <tr>\n",
              "      <th>4</th>\n",
              "      <td>13.24</td>\n",
              "      <td>2.59</td>\n",
              "      <td>2.87</td>\n",
              "      <td>21.0</td>\n",
              "      <td>118.0</td>\n",
              "      <td>2.80</td>\n",
              "      <td>2.69</td>\n",
              "      <td>0.39</td>\n",
              "      <td>1.82</td>\n",
              "      <td>4.32</td>\n",
              "      <td>1.04</td>\n",
              "      <td>2.93</td>\n",
              "      <td>735.0</td>\n",
              "      <td>0</td>\n",
              "    </tr>\n",
              "    <tr>\n",
              "      <th>...</th>\n",
              "      <td>...</td>\n",
              "      <td>...</td>\n",
              "      <td>...</td>\n",
              "      <td>...</td>\n",
              "      <td>...</td>\n",
              "      <td>...</td>\n",
              "      <td>...</td>\n",
              "      <td>...</td>\n",
              "      <td>...</td>\n",
              "      <td>...</td>\n",
              "      <td>...</td>\n",
              "      <td>...</td>\n",
              "      <td>...</td>\n",
              "      <td>...</td>\n",
              "    </tr>\n",
              "    <tr>\n",
              "      <th>173</th>\n",
              "      <td>13.71</td>\n",
              "      <td>5.65</td>\n",
              "      <td>2.45</td>\n",
              "      <td>20.5</td>\n",
              "      <td>95.0</td>\n",
              "      <td>1.68</td>\n",
              "      <td>0.61</td>\n",
              "      <td>0.52</td>\n",
              "      <td>1.06</td>\n",
              "      <td>7.70</td>\n",
              "      <td>0.64</td>\n",
              "      <td>1.74</td>\n",
              "      <td>740.0</td>\n",
              "      <td>2</td>\n",
              "    </tr>\n",
              "    <tr>\n",
              "      <th>174</th>\n",
              "      <td>13.40</td>\n",
              "      <td>3.91</td>\n",
              "      <td>2.48</td>\n",
              "      <td>23.0</td>\n",
              "      <td>102.0</td>\n",
              "      <td>1.80</td>\n",
              "      <td>0.75</td>\n",
              "      <td>0.43</td>\n",
              "      <td>1.41</td>\n",
              "      <td>7.30</td>\n",
              "      <td>0.70</td>\n",
              "      <td>1.56</td>\n",
              "      <td>750.0</td>\n",
              "      <td>2</td>\n",
              "    </tr>\n",
              "    <tr>\n",
              "      <th>175</th>\n",
              "      <td>13.27</td>\n",
              "      <td>4.28</td>\n",
              "      <td>2.26</td>\n",
              "      <td>20.0</td>\n",
              "      <td>120.0</td>\n",
              "      <td>1.59</td>\n",
              "      <td>0.69</td>\n",
              "      <td>0.43</td>\n",
              "      <td>1.35</td>\n",
              "      <td>10.20</td>\n",
              "      <td>0.59</td>\n",
              "      <td>1.56</td>\n",
              "      <td>835.0</td>\n",
              "      <td>2</td>\n",
              "    </tr>\n",
              "    <tr>\n",
              "      <th>176</th>\n",
              "      <td>13.17</td>\n",
              "      <td>2.59</td>\n",
              "      <td>2.37</td>\n",
              "      <td>20.0</td>\n",
              "      <td>120.0</td>\n",
              "      <td>1.65</td>\n",
              "      <td>0.68</td>\n",
              "      <td>0.53</td>\n",
              "      <td>1.46</td>\n",
              "      <td>9.30</td>\n",
              "      <td>0.60</td>\n",
              "      <td>1.62</td>\n",
              "      <td>840.0</td>\n",
              "      <td>2</td>\n",
              "    </tr>\n",
              "    <tr>\n",
              "      <th>177</th>\n",
              "      <td>14.13</td>\n",
              "      <td>4.10</td>\n",
              "      <td>2.74</td>\n",
              "      <td>24.5</td>\n",
              "      <td>96.0</td>\n",
              "      <td>2.05</td>\n",
              "      <td>0.76</td>\n",
              "      <td>0.56</td>\n",
              "      <td>1.35</td>\n",
              "      <td>9.20</td>\n",
              "      <td>0.61</td>\n",
              "      <td>1.60</td>\n",
              "      <td>560.0</td>\n",
              "      <td>2</td>\n",
              "    </tr>\n",
              "  </tbody>\n",
              "</table>\n",
              "<p>178 rows × 14 columns</p>\n",
              "</div>"
            ],
            "text/plain": [
              "     alcohol  malic_acid   ash  ...  od280/od315_of_diluted_wines  proline  target\n",
              "0      14.23        1.71  2.43  ...                          3.92   1065.0       0\n",
              "1      13.20        1.78  2.14  ...                          3.40   1050.0       0\n",
              "2      13.16        2.36  2.67  ...                          3.17   1185.0       0\n",
              "3      14.37        1.95  2.50  ...                          3.45   1480.0       0\n",
              "4      13.24        2.59  2.87  ...                          2.93    735.0       0\n",
              "..       ...         ...   ...  ...                           ...      ...     ...\n",
              "173    13.71        5.65  2.45  ...                          1.74    740.0       2\n",
              "174    13.40        3.91  2.48  ...                          1.56    750.0       2\n",
              "175    13.27        4.28  2.26  ...                          1.56    835.0       2\n",
              "176    13.17        2.59  2.37  ...                          1.62    840.0       2\n",
              "177    14.13        4.10  2.74  ...                          1.60    560.0       2\n",
              "\n",
              "[178 rows x 14 columns]"
            ]
          },
          "metadata": {
            "tags": []
          },
          "execution_count": 167
        }
      ]
    },
    {
      "cell_type": "code",
      "metadata": {
        "id": "81jb14t-B8mX",
        "outputId": "f1ef4724-4e3c-48b9-ac20-cbe8b9ef2946",
        "colab": {
          "base_uri": "https://localhost:8080/",
          "height": 119
        }
      },
      "source": [
        "# How many features do we have in this dataset? \n",
        "print('number of features is', X.shape[1])\n",
        "# What are the target classes?\n",
        "print('target classes are', np.unique(y))\n",
        "# What do these target classes signify?\n",
        "print('target classes signify', target_names)\n",
        "# How many wine belongs to class 0? \n",
        "print('number of class 0 wine:', np.sum(y == 0))\n",
        "# How many wine belongs to class 1? \n",
        "print('number of class 1 wine:', np.sum(y == 1))\n",
        "# How many wine belongs to class 2?\n",
        "print('number of class 2 wine:', np.sum(y == 2))"
      ],
      "execution_count": 168,
      "outputs": [
        {
          "output_type": "stream",
          "text": [
            "number of features is 13\n",
            "target classes are [0 1 2]\n",
            "target classes signify ['class_0' 'class_1' 'class_2']\n",
            "number of class 0 wine: 59\n",
            "number of class 1 wine: 71\n",
            "number of class 2 wine: 48\n"
          ],
          "name": "stdout"
        }
      ]
    },
    {
      "cell_type": "markdown",
      "metadata": {
        "id": "7Rdy-3RLDj01"
      },
      "source": [
        "Part5 - Question2: Create a KNN classifier using the tools you've learned"
      ]
    },
    {
      "cell_type": "code",
      "metadata": {
        "id": "ddFyajXs5EdK"
      },
      "source": [
        "X_train, X_test, y_train, y_test = train_test_split(X, y, test_size=0.3, random_state=0)"
      ],
      "execution_count": 169,
      "outputs": []
    },
    {
      "cell_type": "code",
      "metadata": {
        "id": "am4zjNZ15EdM",
        "outputId": "ce76a09a-3d88-4d0e-cad7-2fc71ef061ce",
        "colab": {
          "base_uri": "https://localhost:8080/",
          "height": 1000
        }
      },
      "source": [
        "scores=[]\n",
        "for k in np.arange(1,100):\n",
        "    knn = KNeighborsClassifier(n_neighbors=k)\n",
        "    score = cross_val_score(knn, X_train, y_train, cv=5)\n",
        "    scores.append(score.mean())\n",
        "scores"
      ],
      "execution_count": 170,
      "outputs": [
        {
          "output_type": "execute_result",
          "data": {
            "text/plain": [
              "[0.749,\n",
              " 0.6943333333333332,\n",
              " 0.693,\n",
              " 0.6683333333333332,\n",
              " 0.6283333333333334,\n",
              " 0.644,\n",
              " 0.6443333333333334,\n",
              " 0.6439999999999999,\n",
              " 0.6683333333333332,\n",
              " 0.6523333333333332,\n",
              " 0.628,\n",
              " 0.6526666666666666,\n",
              " 0.6603333333333332,\n",
              " 0.6849999999999999,\n",
              " 0.6846666666666666,\n",
              " 0.661,\n",
              " 0.6363333333333333,\n",
              " 0.7016666666666667,\n",
              " 0.6933333333333332,\n",
              " 0.694,\n",
              " 0.694,\n",
              " 0.7016666666666667,\n",
              " 0.71,\n",
              " 0.71,\n",
              " 0.7016666666666667,\n",
              " 0.7096666666666667,\n",
              " 0.7096666666666667,\n",
              " 0.7096666666666667,\n",
              " 0.7016666666666667,\n",
              " 0.7016666666666667,\n",
              " 0.7016666666666667,\n",
              " 0.7096666666666667,\n",
              " 0.7176666666666667,\n",
              " 0.7096666666666667,\n",
              " 0.7096666666666667,\n",
              " 0.7096666666666667,\n",
              " 0.7096666666666667,\n",
              " 0.7096666666666667,\n",
              " 0.7176666666666667,\n",
              " 0.7096666666666667,\n",
              " 0.7016666666666667,\n",
              " 0.7016666666666667,\n",
              " 0.7016666666666667,\n",
              " 0.7016666666666667,\n",
              " 0.7016666666666667,\n",
              " 0.6936666666666667,\n",
              " 0.7013333333333333,\n",
              " 0.6686666666666666,\n",
              " 0.677,\n",
              " 0.6526666666666667,\n",
              " 0.6526666666666667,\n",
              " 0.6686666666666666,\n",
              " 0.6933333333333334,\n",
              " 0.701,\n",
              " 0.7013333333333333,\n",
              " 0.6763333333333332,\n",
              " 0.6763333333333332,\n",
              " 0.6756666666666667,\n",
              " 0.6759999999999999,\n",
              " 0.6756666666666666,\n",
              " 0.6676666666666666,\n",
              " 0.6679999999999999,\n",
              " 0.6679999999999999,\n",
              " 0.6519999999999999,\n",
              " 0.6679999999999999,\n",
              " 0.6679999999999999,\n",
              " 0.6679999999999999,\n",
              " 0.6679999999999999,\n",
              " 0.6679999999999999,\n",
              " 0.6679999999999999,\n",
              " 0.6679999999999999,\n",
              " 0.6679999999999999,\n",
              " 0.6759999999999999,\n",
              " 0.6759999999999999,\n",
              " 0.6679999999999999,\n",
              " 0.6519999999999999,\n",
              " 0.6599999999999999,\n",
              " 0.6523333333333332,\n",
              " 0.6523333333333332,\n",
              " 0.6606666666666666,\n",
              " 0.6523333333333332,\n",
              " 0.6439999999999999,\n",
              " 0.6523333333333332,\n",
              " 0.6523333333333332,\n",
              " 0.6523333333333332,\n",
              " 0.6523333333333332,\n",
              " 0.6443333333333333,\n",
              " 0.6363333333333333,\n",
              " 0.6443333333333333,\n",
              " 0.6443333333333333,\n",
              " 0.6443333333333333,\n",
              " 0.6443333333333333,\n",
              " 0.395,\n",
              " 0.395,\n",
              " 0.395,\n",
              " 0.395,\n",
              " 0.395,\n",
              " 0.395,\n",
              " 0.395]"
            ]
          },
          "metadata": {
            "tags": []
          },
          "execution_count": 170
        }
      ]
    },
    {
      "cell_type": "code",
      "metadata": {
        "id": "qh0XMnCn5EdO",
        "outputId": "212b572c-485e-4b2b-8122-a1cf344afaa5",
        "colab": {
          "base_uri": "https://localhost:8080/",
          "height": 51
        }
      },
      "source": [
        "print('Best k is:', np.argmax(scores)+1)\n",
        "print('The maximum accuracy is:', np.max(scores)*100, '%')"
      ],
      "execution_count": 171,
      "outputs": [
        {
          "output_type": "stream",
          "text": [
            "Best k is: 1\n",
            "The maximum accuracy is: 74.9 %\n"
          ],
          "name": "stdout"
        }
      ]
    },
    {
      "cell_type": "code",
      "metadata": {
        "id": "w03M3YrlAarB",
        "outputId": "2d7144b6-6fe8-4b4a-9400-18f5da5137e8",
        "colab": {
          "base_uri": "https://localhost:8080/",
          "height": 295
        }
      },
      "source": [
        "# generate plot\n",
        "\n",
        "plt.title('k-NN :Varying Number of Neighbors')\n",
        "plt.plot(np.arange(1,100), scores, label = 'Mean Cross-Validation Accuracy')\n",
        "plt.legend()\n",
        "plt.xlabel('Number of Neighbors')\n",
        "plt.ylabel('Mean Cross-Validation Accuracy')\n",
        "plt.show()"
      ],
      "execution_count": 172,
      "outputs": [
        {
          "output_type": "display_data",
          "data": {
            "image/png": "[encoded data removed]",
            "text/plain": [
              "<Figure size 432x288 with 1 Axes>"
            ]
          },
          "metadata": {
            "tags": [],
            "needs_background": "light"
          }
        }
      ]
    },
    {
      "cell_type": "markdown",
      "metadata": {
        "id": "z9rGjJQKEB_h"
      },
      "source": [
        "Test Data Accuracy"
      ]
    },
    {
      "cell_type": "code",
      "metadata": {
        "id": "5L7ZocDqEBUE",
        "outputId": "e44a7c41-8f76-4ee1-bd85-47b3ca84e829",
        "colab": {
          "base_uri": "https://localhost:8080/",
          "height": 34
        }
      },
      "source": [
        "knn = KNeighborsClassifier(n_neighbors=1)\n",
        "knn.fit(X_train, y_train)\n",
        "accuracy = accuracy_score(y_test, knn.predict(X_test))\n",
        "print (\"Test set accuracy: \", accuracy * 100, \"%\")"
      ],
      "execution_count": 173,
      "outputs": [
        {
          "output_type": "stream",
          "text": [
            "Test set accuracy:  75.92592592592592 %\n"
          ],
          "name": "stdout"
        }
      ]
    },
    {
      "cell_type": "code",
      "metadata": {
        "id": "yVLgWhTkFT1L"
      },
      "source": [
        "train = []\n",
        "test = []\n",
        "for k in range(1, 31):\n",
        "  knn = KNeighborsClassifier(n_neighbors = k)\n",
        "  knn.fit(X_train, y_train)\n",
        "  yhat_train = knn.predict(X_train)\n",
        "  yhat_test = knn.predict(X_test)\n",
        "  train.append(accuracy_score(y_train,yhat_train))\n",
        "  test.append(accuracy_score(y_test,yhat_test))"
      ],
      "execution_count": 174,
      "outputs": []
    },
    {
      "cell_type": "code",
      "metadata": {
        "id": "C6eSTdHGFcvz",
        "outputId": "91154b4f-8b47-4101-d3bc-36607a720158",
        "colab": {
          "base_uri": "https://localhost:8080/",
          "height": 295
        }
      },
      "source": [
        "# generate plot\n",
        "plt.title('train&test :Varying Number of Neighbors')\n",
        "plt.plot(np.arange(1,31), train, label='train accuracy')\n",
        "plt.plot(np.arange(1,31), test, label='test accuracy')\n",
        "plt.axvline(x=1, color='r', linestyle='-')\n",
        "plt.legend()\n",
        "plt.xlabel('Number of Neighbors')\n",
        "plt.ylabel('Accuracy')\n",
        "plt.show()"
      ],
      "execution_count": 175,
      "outputs": [
        {
          "output_type": "display_data",
          "data": {
            "image/png": "[encoded data removed]",
            "text/plain": [
              "<Figure size 432x288 with 1 Axes>"
            ]
          },
          "metadata": {
            "tags": [],
            "needs_background": "light"
          }
        }
      ]
    },
    {
      "cell_type": "markdown",
      "metadata": {
        "id": "ztlPPGT1ImPp"
      },
      "source": [
        "From the graph above, we can see that the training accuracy is overfitting when k = 1. The model is becoming more 'complex' and it may fit irrelevant characteristics(noise) in the data, it does not gerneralize the whole data patterns. One possible reason for this is that the wine dataset has too few features, which can not show the actually pattern, we need to collect more data in this situation. "
      ]
    },
    {
      "cell_type": "markdown",
      "metadata": {
        "id": "HcekCGWqAGCN"
      },
      "source": [
        "Just want to try -- Feature selection"
      ]
    },
    {
      "cell_type": "code",
      "metadata": {
        "id": "obikO5R65EdS",
        "outputId": "1c495a5c-3b30-4482-ddbc-3dd48d4d661d",
        "colab": {
          "base_uri": "https://localhost:8080/",
          "height": 68
        }
      },
      "source": [
        "X_comb = pd.DataFrame(X_train, columns = feature_names)\n",
        "knn = KNeighborsClassifier(n_neighbors = 1)\n",
        "cols = X_comb.columns\n",
        "max_acc = 0\n",
        "while True:\n",
        "    accs = []\n",
        "    for i in cols: \n",
        "        name = cols[cols!=i]\n",
        "        df_X = X_comb.loc[:,name]\n",
        "        acc = cross_val_score(knn, df_X.values, y_train, cv = 5)\n",
        "        accs.append(acc.mean())\n",
        "    if max_acc <= max(accs):\n",
        "        idx = np.argmax(accs)\n",
        "        max_acc = max(accs)\n",
        "        #print(max_acc)\n",
        "        cols = np.delete(cols,idx)\n",
        "    else:\n",
        "        break\n",
        "print(cols)"
      ],
      "execution_count": 176,
      "outputs": [
        {
          "output_type": "stream",
          "text": [
            "Index(['alcohol', 'malic_acid', 'total_phenols', 'flavanoids',\n",
            "       'proanthocyanins', 'color_intensity'],\n",
            "      dtype='object')\n"
          ],
          "name": "stdout"
        }
      ]
    },
    {
      "cell_type": "code",
      "metadata": {
        "id": "pWJJ-CRa5EdY",
        "outputId": "f471cca3-d354-41b5-ac80-66b11999d83c",
        "colab": {
          "base_uri": "https://localhost:8080/",
          "height": 1000
        }
      },
      "source": [
        "X_comb = X_comb.loc[:, cols].values\n",
        "scores=[]\n",
        "for k in np.arange(1,100):\n",
        "    knn = KNeighborsClassifier(n_neighbors=k)\n",
        "    score = cross_val_score(knn, X_comb, y_train, cv=5)\n",
        "    scores.append(score.mean())\n",
        "scores"
      ],
      "execution_count": 177,
      "outputs": [
        {
          "output_type": "execute_result",
          "data": {
            "text/plain": [
              "[0.9596666666666666,\n",
              " 0.9109999999999999,\n",
              " 0.9349999999999999,\n",
              " 0.9193333333333333,\n",
              " 0.9189999999999999,\n",
              " 0.9189999999999999,\n",
              " 0.9109999999999999,\n",
              " 0.9109999999999999,\n",
              " 0.9109999999999999,\n",
              " 0.9109999999999999,\n",
              " 0.9189999999999999,\n",
              " 0.9109999999999999,\n",
              " 0.9113333333333333,\n",
              " 0.9113333333333333,\n",
              " 0.9196666666666665,\n",
              " 0.9276666666666665,\n",
              " 0.9033333333333333,\n",
              " 0.9199999999999999,\n",
              " 0.9276666666666665,\n",
              " 0.9276666666666665,\n",
              " 0.9196666666666665,\n",
              " 0.9116666666666665,\n",
              " 0.9116666666666667,\n",
              " 0.8956666666666667,\n",
              " 0.9036666666666667,\n",
              " 0.9196666666666667,\n",
              " 0.9036666666666667,\n",
              " 0.9036666666666667,\n",
              " 0.8956666666666667,\n",
              " 0.8953333333333333,\n",
              " 0.8873333333333333,\n",
              " 0.9036666666666667,\n",
              " 0.9036666666666667,\n",
              " 0.9036666666666667,\n",
              " 0.8956666666666667,\n",
              " 0.8873333333333333,\n",
              " 0.8876666666666667,\n",
              " 0.8796666666666667,\n",
              " 0.8876666666666667,\n",
              " 0.8876666666666667,\n",
              " 0.8876666666666667,\n",
              " 0.8716666666666667,\n",
              " 0.8633333333333333,\n",
              " 0.8633333333333333,\n",
              " 0.8633333333333333,\n",
              " 0.8553333333333335,\n",
              " 0.8633333333333333,\n",
              " 0.8473333333333335,\n",
              " 0.8393333333333335,\n",
              " 0.8233333333333335,\n",
              " 0.8153333333333335,\n",
              " 0.8073333333333335,\n",
              " 0.8153333333333335,\n",
              " 0.7913333333333334,\n",
              " 0.7830000000000001,\n",
              " 0.7750000000000001,\n",
              " 0.7266666666666668,\n",
              " 0.7343333333333334,\n",
              " 0.669,\n",
              " 0.653,\n",
              " 0.6366666666666667,\n",
              " 0.6286666666666667,\n",
              " 0.6366666666666667,\n",
              " 0.6286666666666667,\n",
              " 0.6286666666666667,\n",
              " 0.6206666666666667,\n",
              " 0.629,\n",
              " 0.6206666666666667,\n",
              " 0.6206666666666667,\n",
              " 0.6206666666666667,\n",
              " 0.6043333333333333,\n",
              " 0.6126666666666667,\n",
              " 0.6046666666666667,\n",
              " 0.5963333333333333,\n",
              " 0.5883333333333333,\n",
              " 0.5803333333333334,\n",
              " 0.5803333333333334,\n",
              " 0.5803333333333334,\n",
              " 0.5483333333333333,\n",
              " 0.5243333333333333,\n",
              " 0.5163333333333333,\n",
              " 0.5083333333333333,\n",
              " 0.5,\n",
              " 0.4916666666666667,\n",
              " 0.4916666666666667,\n",
              " 0.4916666666666667,\n",
              " 0.4753333333333333,\n",
              " 0.45933333333333326,\n",
              " 0.45933333333333326,\n",
              " 0.45933333333333326,\n",
              " 0.45933333333333326,\n",
              " 0.42699999999999994,\n",
              " 0.395,\n",
              " 0.395,\n",
              " 0.395,\n",
              " 0.395,\n",
              " 0.395,\n",
              " 0.395,\n",
              " 0.395]"
            ]
          },
          "metadata": {
            "tags": []
          },
          "execution_count": 177
        }
      ]
    },
    {
      "cell_type": "code",
      "metadata": {
        "id": "rwKs0iTbANsp",
        "outputId": "423837f3-6eea-4537-9e48-b59a62eb7837",
        "colab": {
          "base_uri": "https://localhost:8080/",
          "height": 51
        }
      },
      "source": [
        "print('Best k after feature selection is:', np.argmax(scores)+1)\n",
        "print('The maximum accuracy after feature selection is:', np.max(scores)*100, '%')"
      ],
      "execution_count": 178,
      "outputs": [
        {
          "output_type": "stream",
          "text": [
            "Best k after feature selection is: 1\n",
            "The maximum accuracy after feature selection is: 95.96666666666665 %\n"
          ],
          "name": "stdout"
        }
      ]
    },
    {
      "cell_type": "code",
      "metadata": {
        "id": "DTWrsf5tAzpC",
        "outputId": "f011320e-3364-4825-fd0d-b89455999d98",
        "colab": {
          "base_uri": "https://localhost:8080/",
          "height": 295
        }
      },
      "source": [
        "# generate plot\n",
        "plt.title('k-NN_fs :Varying Number of Neighbors')\n",
        "plt.plot(np.arange(1,100), scores, label = 'Mean Cross-Validation Accuracy')\n",
        "plt.legend()\n",
        "plt.xlabel('Number of Neighbors')\n",
        "plt.ylabel('Mean Cross-Validation Accuracy')\n",
        "plt.show()"
      ],
      "execution_count": 179,
      "outputs": [
        {
          "output_type": "display_data",
          "data": {
            "image/png": "[encoded data removed]",
            "text/plain": [
              "<Figure size 432x288 with 1 Axes>"
            ]
          },
          "metadata": {
            "tags": [],
            "needs_background": "light"
          }
        }
      ]
    },
    {
      "cell_type": "markdown",
      "metadata": {
        "id": "KlWtI4nxLH_C"
      },
      "source": [
        "By doing feature selection, we get a higher training accuracy than before, which means we only keep those features that are important in this model. "
      ]
    },
    {
      "cell_type": "markdown",
      "metadata": {
        "id": "UJUvbczFA4oY"
      },
      "source": [
        "Standardization"
      ]
    },
    {
      "cell_type": "code",
      "metadata": {
        "id": "roMEks-C5Edb",
        "scrolled": true,
        "outputId": "3d60a178-a718-4112-e14f-76acffea7fb5",
        "colab": {
          "base_uri": "https://localhost:8080/",
          "height": 1000
        }
      },
      "source": [
        "# with standardization\n",
        "scaler = StandardScaler().fit(X_train)\n",
        "X_train_scaled = scaler.transform(X_train)\n",
        "X_test_scaled = scaler.transform(X_test)\n",
        "scores=[]\n",
        "for k in np.arange(1,100):\n",
        "    knn = KNeighborsClassifier(n_neighbors=k)\n",
        "    score = cross_val_score(knn, X_train_scaled, y_train, cv=5)\n",
        "    scores.append(score.mean())\n",
        "scores"
      ],
      "execution_count": 180,
      "outputs": [
        {
          "output_type": "execute_result",
          "data": {
            "text/plain": [
              "[0.96,\n",
              " 0.9359999999999999,\n",
              " 0.9353333333333333,\n",
              " 0.9436666666666665,\n",
              " 0.9673333333333334,\n",
              " 0.9513333333333334,\n",
              " 0.9596666666666666,\n",
              " 0.9516666666666665,\n",
              " 0.9676666666666666,\n",
              " 0.9516666666666665,\n",
              " 0.9676666666666666,\n",
              " 0.9433333333333334,\n",
              " 0.9433333333333334,\n",
              " 0.9433333333333334,\n",
              " 0.9516666666666665,\n",
              " 0.9596666666666666,\n",
              " 0.9676666666666666,\n",
              " 0.976,\n",
              " 0.976,\n",
              " 0.976,\n",
              " 0.976,\n",
              " 0.976,\n",
              " 0.976,\n",
              " 0.976,\n",
              " 0.976,\n",
              " 0.96,\n",
              " 0.968,\n",
              " 0.9516666666666665,\n",
              " 0.976,\n",
              " 0.968,\n",
              " 0.976,\n",
              " 0.976,\n",
              " 0.976,\n",
              " 0.9676666666666666,\n",
              " 0.976,\n",
              " 0.976,\n",
              " 0.9676666666666666,\n",
              " 0.96,\n",
              " 0.96,\n",
              " 0.96,\n",
              " 0.952,\n",
              " 0.952,\n",
              " 0.952,\n",
              " 0.952,\n",
              " 0.952,\n",
              " 0.96,\n",
              " 0.96,\n",
              " 0.952,\n",
              " 0.96,\n",
              " 0.9436666666666665,\n",
              " 0.9516666666666665,\n",
              " 0.9436666666666665,\n",
              " 0.96,\n",
              " 0.96,\n",
              " 0.96,\n",
              " 0.96,\n",
              " 0.96,\n",
              " 0.952,\n",
              " 0.9359999999999999,\n",
              " 0.9359999999999999,\n",
              " 0.9199999999999999,\n",
              " 0.9039999999999999,\n",
              " 0.8880000000000001,\n",
              " 0.8720000000000001,\n",
              " 0.8560000000000001,\n",
              " 0.8240000000000001,\n",
              " 0.808,\n",
              " 0.7916666666666667,\n",
              " 0.7670000000000001,\n",
              " 0.7266666666666668,\n",
              " 0.686,\n",
              " 0.6613333333333333,\n",
              " 0.6453333333333333,\n",
              " 0.6213333333333333,\n",
              " 0.6133333333333333,\n",
              " 0.5893333333333334,\n",
              " 0.5483333333333333,\n",
              " 0.516,\n",
              " 0.4753333333333333,\n",
              " 0.45099999999999996,\n",
              " 0.42699999999999994,\n",
              " 0.41900000000000004,\n",
              " 0.41100000000000003,\n",
              " 0.41100000000000003,\n",
              " 0.41100000000000003,\n",
              " 0.41100000000000003,\n",
              " 0.395,\n",
              " 0.395,\n",
              " 0.395,\n",
              " 0.395,\n",
              " 0.395,\n",
              " 0.395,\n",
              " 0.395,\n",
              " 0.395,\n",
              " 0.395,\n",
              " 0.395,\n",
              " 0.395,\n",
              " 0.395,\n",
              " 0.395]"
            ]
          },
          "metadata": {
            "tags": []
          },
          "execution_count": 180
        }
      ]
    },
    {
      "cell_type": "code",
      "metadata": {
        "id": "1Vzl2xVbA9h-",
        "outputId": "215d883d-65d4-47b2-f8e2-4e322d7e5333",
        "colab": {
          "base_uri": "https://localhost:8080/",
          "height": 51
        }
      },
      "source": [
        "print('Best k for standardizd data is:', np.argmax(scores)+1)\n",
        "print('The maximum accuracy for standardized data is:', np.max(scores)*100, '%')"
      ],
      "execution_count": 181,
      "outputs": [
        {
          "output_type": "stream",
          "text": [
            "Best k for standardizd data is: 18\n",
            "The maximum accuracy for standardized data is: 97.6 %\n"
          ],
          "name": "stdout"
        }
      ]
    },
    {
      "cell_type": "code",
      "metadata": {
        "id": "hc7bNaXBFxj_",
        "outputId": "268a854f-27e3-444d-e361-6418a2bf1be8",
        "colab": {
          "base_uri": "https://localhost:8080/",
          "height": 295
        }
      },
      "source": [
        "# generate plot\n",
        "\n",
        "plt.title('k-NN_scaled :Varying Number of Neighbors')\n",
        "plt.plot(np.arange(1,100), scores, label = 'Mean Cross-Validation Accuracy')\n",
        "plt.legend()\n",
        "plt.xlabel('Number of Neighbors')\n",
        "plt.ylabel('Mean Cross-Validation Accuracy')\n",
        "plt.show()"
      ],
      "execution_count": 182,
      "outputs": [
        {
          "output_type": "display_data",
          "data": {
            "image/png": "[encoded data removed]",
            "text/plain": [
              "<Figure size 432x288 with 1 Axes>"
            ]
          },
          "metadata": {
            "tags": [],
            "needs_background": "light"
          }
        }
      ]
    },
    {
      "cell_type": "markdown",
      "metadata": {
        "id": "n_vshah1LDQw"
      },
      "source": [
        "Test Data Accuracy"
      ]
    },
    {
      "cell_type": "code",
      "metadata": {
        "id": "IE_EEIF4F7UU",
        "outputId": "b12032c8-ae7e-49df-df02-7065b18112f0",
        "colab": {
          "base_uri": "https://localhost:8080/",
          "height": 34
        }
      },
      "source": [
        "knn = KNeighborsClassifier(n_neighbors=18)\n",
        "knn.fit(X_train_scaled, y_train)\n",
        "accuracy = accuracy_score(y_test, knn.predict(X_test_scaled))\n",
        "print (\"Test set accuracy: \", accuracy * 100, \"%\")"
      ],
      "execution_count": 183,
      "outputs": [
        {
          "output_type": "stream",
          "text": [
            "Test set accuracy:  100.0 %\n"
          ],
          "name": "stdout"
        }
      ]
    },
    {
      "cell_type": "code",
      "metadata": {
        "id": "rzVfw0xmGURY"
      },
      "source": [
        "train = []\n",
        "test = []\n",
        "for k in range(1, 31):\n",
        "  knn = KNeighborsClassifier(n_neighbors = k)\n",
        "  knn.fit(X_train_scaled, y_train)\n",
        "  yhat_train = knn.predict(X_train_scaled)\n",
        "  yhat_test = knn.predict(X_test_scaled)\n",
        "  train.append(accuracy_score(y_train,yhat_train))\n",
        "  test.append(accuracy_score(y_test,yhat_test))"
      ],
      "execution_count": 184,
      "outputs": []
    },
    {
      "cell_type": "code",
      "metadata": {
        "id": "BpN8RFmpGbTa",
        "outputId": "552f424d-4257-4f61-c4b0-9a21c4d9278e",
        "colab": {
          "base_uri": "https://localhost:8080/",
          "height": 295
        }
      },
      "source": [
        "# generate plot\n",
        "plt.title('train&test :Varying Number of Neighbors')\n",
        "plt.plot(np.arange(1,31), train, label='train accuracy')\n",
        "plt.plot(np.arange(1,31), test, label='test accuracy')\n",
        "plt.axvline(x=18, color='r', linestyle='-')\n",
        "plt.legend()\n",
        "plt.xlabel('Number of Neighbors')\n",
        "plt.ylabel('Accuracy')\n",
        "plt.show()"
      ],
      "execution_count": 185,
      "outputs": [
        {
          "output_type": "display_data",
          "data": {
            "image/png": "[encoded data removed]",
            "text/plain": [
              "<Figure size 432x288 with 1 Axes>"
            ]
          },
          "metadata": {
            "tags": [],
            "needs_background": "light"
          }
        }
      ]
    },
    {
      "cell_type": "markdown",
      "metadata": {
        "id": "7p9r6x4VJ30L"
      },
      "source": [
        "From the above graph, we can see that the test set accuracy is 100% which is a very rare situation. We can try by setting test_size = 0.4 or 0.5, or 10-fold validation to see if anything changes. "
      ]
    },
    {
      "cell_type": "markdown",
      "metadata": {
        "id": "cx0yYrsKBLPF"
      },
      "source": [
        "Just want to try - feature selection(with standardized data)"
      ]
    },
    {
      "cell_type": "code",
      "metadata": {
        "id": "l2oCjPXH5Edh",
        "outputId": "f1220551-7c76-4c93-8318-ce81754789eb",
        "colab": {
          "base_uri": "https://localhost:8080/",
          "height": 85
        }
      },
      "source": [
        "X_comb = pd.DataFrame(X_train_scaled, columns = feature_names)\n",
        "knn = KNeighborsClassifier(n_neighbors = 18)\n",
        "cols = X_comb.columns\n",
        "max_acc = 0\n",
        "while True:\n",
        "    accs = []\n",
        "    for i in cols: \n",
        "        name = cols[cols!=i]\n",
        "        df_X = X_comb.loc[:,name]\n",
        "        acc = cross_val_score(knn, df_X.values, y_train, cv = 5)\n",
        "        accs.append(acc.mean())\n",
        "    if max_acc <= max(accs):\n",
        "        idx = np.argmax(accs)\n",
        "        max_acc = max(accs)\n",
        "        #print(max_acc)\n",
        "        cols = np.delete(cols,idx)\n",
        "    else:\n",
        "        break\n",
        "print(cols)"
      ],
      "execution_count": 186,
      "outputs": [
        {
          "output_type": "stream",
          "text": [
            "Index(['alcohol', 'malic_acid', 'ash', 'alcalinity_of_ash', 'flavanoids',\n",
            "       'nonflavanoid_phenols', 'color_intensity', 'hue',\n",
            "       'od280/od315_of_diluted_wines', 'proline'],\n",
            "      dtype='object')\n"
          ],
          "name": "stdout"
        }
      ]
    },
    {
      "cell_type": "code",
      "metadata": {
        "id": "AvsPQLzh5Edk",
        "scrolled": true,
        "outputId": "5779f6e2-134d-4eb2-98be-1f1f7c05488f",
        "colab": {
          "base_uri": "https://localhost:8080/",
          "height": 1000
        }
      },
      "source": [
        "X_comb = X_comb.loc[:, cols].values\n",
        "scores=[]\n",
        "for k in np.arange(1,100):\n",
        "    knn = KNeighborsClassifier(n_neighbors=k)\n",
        "    score = cross_val_score(knn, X_comb, y_train, cv=5)\n",
        "    scores.append(score.mean())\n",
        "scores"
      ],
      "execution_count": 187,
      "outputs": [
        {
          "output_type": "execute_result",
          "data": {
            "text/plain": [
              "[0.976,\n",
              " 0.9359999999999999,\n",
              " 0.976,\n",
              " 0.9596666666666666,\n",
              " 0.9756666666666666,\n",
              " 0.9596666666666666,\n",
              " 0.992,\n",
              " 0.968,\n",
              " 0.9756666666666666,\n",
              " 0.9676666666666666,\n",
              " 0.9676666666666666,\n",
              " 0.9593333333333334,\n",
              " 0.9676666666666666,\n",
              " 0.9593333333333334,\n",
              " 0.9676666666666666,\n",
              " 0.9676666666666666,\n",
              " 0.9756666666666666,\n",
              " 0.9756666666666666,\n",
              " 0.9756666666666666,\n",
              " 0.9756666666666666,\n",
              " 0.9756666666666666,\n",
              " 0.9756666666666666,\n",
              " 0.9756666666666666,\n",
              " 0.9756666666666666,\n",
              " 0.9756666666666666,\n",
              " 0.9756666666666666,\n",
              " 0.9756666666666666,\n",
              " 0.9756666666666666,\n",
              " 0.9756666666666666,\n",
              " 0.9756666666666666,\n",
              " 0.9756666666666666,\n",
              " 0.9756666666666666,\n",
              " 0.9756666666666666,\n",
              " 0.9756666666666666,\n",
              " 0.9756666666666666,\n",
              " 0.9756666666666666,\n",
              " 0.9756666666666666,\n",
              " 0.9756666666666666,\n",
              " 0.9756666666666666,\n",
              " 0.9676666666666666,\n",
              " 0.9756666666666666,\n",
              " 0.9676666666666666,\n",
              " 0.9676666666666666,\n",
              " 0.9676666666666666,\n",
              " 0.9676666666666666,\n",
              " 0.9676666666666666,\n",
              " 0.9596666666666666,\n",
              " 0.9516666666666665,\n",
              " 0.9596666666666666,\n",
              " 0.9436666666666665,\n",
              " 0.9516666666666665,\n",
              " 0.9516666666666665,\n",
              " 0.9436666666666665,\n",
              " 0.9516666666666665,\n",
              " 0.9516666666666665,\n",
              " 0.9436666666666665,\n",
              " 0.9436666666666665,\n",
              " 0.9436666666666665,\n",
              " 0.9193333333333333,\n",
              " 0.9359999999999999,\n",
              " 0.9359999999999999,\n",
              " 0.9280000000000002,\n",
              " 0.8960000000000001,\n",
              " 0.8800000000000001,\n",
              " 0.8320000000000001,\n",
              " 0.8240000000000001,\n",
              " 0.7916666666666667,\n",
              " 0.7426666666666667,\n",
              " 0.7263333333333333,\n",
              " 0.6943333333333334,\n",
              " 0.6696666666666667,\n",
              " 0.6696666666666667,\n",
              " 0.6533333333333333,\n",
              " 0.6373333333333333,\n",
              " 0.613,\n",
              " 0.613,\n",
              " 0.5806666666666668,\n",
              " 0.5563333333333333,\n",
              " 0.5483333333333333,\n",
              " 0.5076666666666667,\n",
              " 0.4676666666666667,\n",
              " 0.44333333333333336,\n",
              " 0.43499999999999994,\n",
              " 0.41899999999999993,\n",
              " 0.403,\n",
              " 0.403,\n",
              " 0.403,\n",
              " 0.403,\n",
              " 0.403,\n",
              " 0.395,\n",
              " 0.395,\n",
              " 0.395,\n",
              " 0.395,\n",
              " 0.395,\n",
              " 0.395,\n",
              " 0.395,\n",
              " 0.395,\n",
              " 0.395,\n",
              " 0.395]"
            ]
          },
          "metadata": {
            "tags": []
          },
          "execution_count": 187
        }
      ]
    },
    {
      "cell_type": "code",
      "metadata": {
        "id": "EFoSOK6wBRyo",
        "outputId": "6ca87f2b-c2ae-4735-cb74-bae8f4d48f14",
        "colab": {
          "base_uri": "https://localhost:8080/",
          "height": 51
        }
      },
      "source": [
        "print('Best k with standardization data after feature selection is:', np.argmax(scores)+1)\n",
        "print('The maximum accuracy with standardization data after feature selection is:', np.max(scores)*100, '%')"
      ],
      "execution_count": 188,
      "outputs": [
        {
          "output_type": "stream",
          "text": [
            "Best k with standardization data after feature selection is: 7\n",
            "The maximum accuracy with standardization data after feature selection is: 99.2 %\n"
          ],
          "name": "stdout"
        }
      ]
    },
    {
      "cell_type": "code",
      "metadata": {
        "id": "junykXYy5Edo",
        "outputId": "323e8f5c-b163-4561-acba-842618c01808",
        "colab": {
          "base_uri": "https://localhost:8080/",
          "height": 295
        }
      },
      "source": [
        "# generate plot\n",
        "plt.title('k-NN_fs_ :Varying Number of Neighbors')\n",
        "plt.plot(np.arange(1,100), scores, label = 'Mean Cross-Validation Accuracy')\n",
        "plt.legend()\n",
        "plt.xlabel('Number of Neighbors')\n",
        "plt.ylabel('Mean Cross-Validation Accuracy')\n",
        "plt.show()"
      ],
      "execution_count": 189,
      "outputs": [
        {
          "output_type": "display_data",
          "data": {
            "image/png": "[encoded data removed]",
            "text/plain": [
              "<Figure size 432x288 with 1 Axes>"
            ]
          },
          "metadata": {
            "tags": [],
            "needs_background": "light"
          }
        }
      ]
    },
    {
      "cell_type": "markdown",
      "metadata": {
        "id": "w9Grt0leKywA"
      },
      "source": [
        "By doing feature selection, we drop unimportant features in this model, and we can get a higher training accuracy than before. \n"
      ]
    }
  ]
}